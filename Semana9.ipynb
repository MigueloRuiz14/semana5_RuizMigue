{
  "cells": [
    {
      "cell_type": "markdown",
      "metadata": {
        "id": "view-in-github",
        "colab_type": "text"
      },
      "source": [
        "<a href=\"https://colab.research.google.com/github/MigueloRuiz14/semana5_RuizMigue/blob/master/Semana9.ipynb\" target=\"_parent\"><img src=\"https://colab.research.google.com/assets/colab-badge.svg\" alt=\"Open In Colab\"/></a>"
      ]
    },
    {
      "cell_type": "code",
      "source": [
        "import pandas as pd\n",
        "import matplotlib.pyplot as plt"
      ],
      "metadata": {
        "id": "tFd2XGW691DU"
      },
      "execution_count": 157,
      "outputs": []
    },
    {
      "cell_type": "code",
      "source": [
        "Tarjetas =  pd.read_csv(\"/content/tarjetas.csv\", sep = \",\")\n",
        "print(Tarjetas)"
      ],
      "metadata": {
        "id": "JTVv7ifC-VpN"
      },
      "execution_count": null,
      "outputs": []
    },
    {
      "cell_type": "code",
      "source": [
        "Genero = Tarjetas.value_counts(\"Gender\")\n",
        "print(Genero)\n",
        "\n",
        "Genero.to_csv(\"/content/Genero.csv\", sep = \";\")"
      ],
      "metadata": {
        "id": "Q-Avl1DSMU68"
      },
      "execution_count": null,
      "outputs": []
    },
    {
      "cell_type": "code",
      "source": [
        "Genero.plot.bar()\n",
        "plt.bar(range(2), Genero, align='center', color=['red','green'])\n",
        "\n",
        "plt.xlabel(\"Género\", c = 'blue')\n",
        "plt.ylabel(\"Cantidad\", c = 'red')\n",
        "plt.grid(b = True, lw = .4)\n",
        "plt.show()\n"
      ],
      "metadata": {
        "id": "whfefLt2v8sh"
      },
      "execution_count": null,
      "outputs": []
    },
    {
      "cell_type": "markdown",
      "source": [
        "# **Total de dólares utilizados diferenciando tarjetas de crédito por ciudad**"
      ],
      "metadata": {
        "id": "QjJH_xvDMDu8"
      }
    },
    {
      "cell_type": "code",
      "source": [
        "\n"
      ],
      "metadata": {
        "id": "zzaqPrvsP4tV"
      },
      "execution_count": null,
      "outputs": []
    },
    {
      "cell_type": "code",
      "source": [],
      "metadata": {
        "id": "0J-IgmTsb_zZ"
      },
      "execution_count": null,
      "outputs": []
    }
  ],
  "metadata": {
    "colab": {
      "collapsed_sections": [],
      "name": "Te damos la bienvenida a Colaboratory",
      "provenance": [],
      "include_colab_link": true
    },
    "kernelspec": {
      "display_name": "Python 3",
      "name": "python3"
    }
  },
  "nbformat": 4,
  "nbformat_minor": 0
}