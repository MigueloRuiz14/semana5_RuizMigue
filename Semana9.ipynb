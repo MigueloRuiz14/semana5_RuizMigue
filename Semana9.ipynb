{
  "cells": [
    {
      "cell_type": "markdown",
      "metadata": {
        "id": "view-in-github",
        "colab_type": "text"
      },
      "source": [
        "<a href=\"https://colab.research.google.com/github/MigueloRuiz14/semana5_RuizMigue/blob/master/Semana9.ipynb\" target=\"_parent\"><img src=\"https://colab.research.google.com/assets/colab-badge.svg\" alt=\"Open In Colab\"/></a>"
      ]
    },
    {
      "cell_type": "code",
      "source": [
        "import pandas as pd\n",
        "import matplotlib.pyplot as plt"
      ],
      "metadata": {
        "id": "tFd2XGW691DU"
      },
      "execution_count": 1,
      "outputs": []
    },
    {
      "cell_type": "code",
      "source": [
        "Tarjetas =  pd.read_csv(\"/content/tarjetas.csv\", sep = \",\")\n",
        "print(Tarjetas)"
      ],
      "metadata": {
        "id": "JTVv7ifC-VpN"
      },
      "execution_count": null,
      "outputs": []
    },
    {
      "cell_type": "code",
      "source": [
        "Genero = Tarjetas.value_counts(\"Gender\")\n",
        "print(Genero)\n",
        "\n",
        "Genero.to_csv(\"/content/Genero.csv\", sep = \";\")"
      ],
      "metadata": {
        "id": "Q-Avl1DSMU68",
        "outputId": "ae04a423-8ee6-4ace-fda5-aa483bc09d0e",
        "colab": {
          "base_uri": "https://localhost:8080/"
        }
      },
      "execution_count": 79,
      "outputs": [
        {
          "output_type": "stream",
          "name": "stdout",
          "text": [
            "Gender\n",
            "F    13680\n",
            "M    12372\n",
            "dtype: int64\n"
          ]
        }
      ]
    },
    {
      "cell_type": "code",
      "source": [
        "tabla_Genero = pd.crosstab(index = Genero[\"Gender\"], columns = \"fr\")\n",
        "#print(tabla_sobresalientes)\n",
        "plt.pie(tabla_Genero, labels = tabla_Genero.index)\n",
        "plt.xlabel(\"Cantidad de estudiantes con buena nota\")\n",
        "plt.show()"
      ],
      "metadata": {
        "id": "9rPWMdydPZ7P"
      },
      "execution_count": null,
      "outputs": []
    },
    {
      "cell_type": "code",
      "source": [
        "tabla_Genero = pd.crosstab(index=Genero[\"Gender\"], columns=\"fr\")\n",
        "plt.bar(Genero[\"26052\"], Genero[\"Gender\"])\n",
        "plt.xlabel(\"Cantidad de estudiantes con buena nota\")\n",
        "plt.show()\n",
        "Genero"
      ],
      "metadata": {
        "id": "zzaqPrvsP4tV"
      },
      "execution_count": null,
      "outputs": []
    }
  ],
  "metadata": {
    "colab": {
      "collapsed_sections": [],
      "name": "Te damos la bienvenida a Colaboratory",
      "provenance": [],
      "include_colab_link": true
    },
    "kernelspec": {
      "display_name": "Python 3",
      "name": "python3"
    }
  },
  "nbformat": 4,
  "nbformat_minor": 0
}