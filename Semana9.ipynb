{
  "cells": [
    {
      "cell_type": "markdown",
      "metadata": {
        "id": "view-in-github",
        "colab_type": "text"
      },
      "source": [
        "<a href=\"https://colab.research.google.com/github/MigueloRuiz14/semana5_RuizMigue/blob/master/Semana9.ipynb\" target=\"_parent\"><img src=\"https://colab.research.google.com/assets/colab-badge.svg\" alt=\"Open In Colab\"/></a>"
      ]
    },
    {
      "cell_type": "markdown",
      "source": [
        "# **Total por género**"
      ],
      "metadata": {
        "id": "ydufqMb-jSEF"
      }
    },
    {
      "cell_type": "code",
      "source": [
        "import pandas as pd\n",
        "import matplotlib.pyplot as plt"
      ],
      "metadata": {
        "id": "tFd2XGW691DU"
      },
      "execution_count": null,
      "outputs": []
    },
    {
      "cell_type": "code",
      "source": [
        "Tarjetas =  pd.read_csv(\"/content/tarjetas.csv\", sep = \",\")\n",
        "print(Tarjetas)"
      ],
      "metadata": {
        "id": "JTVv7ifC-VpN"
      },
      "execution_count": null,
      "outputs": []
    },
    {
      "cell_type": "code",
      "source": [
        "Genero = Tarjetas.value_counts(\"Gender\")\n",
        "print(Genero)\n",
        "\n",
        "Genero.to_csv(\"/content/Genero.csv\", sep = \";\")"
      ],
      "metadata": {
        "id": "Q-Avl1DSMU68"
      },
      "execution_count": null,
      "outputs": []
    },
    {
      "cell_type": "code",
      "source": [
        "Genero.plot.bar()\n",
        "plt.bar(range(2), Genero, align='center', color=['red','green'])\n",
        "plt.xlabel(\"Género\", c = 'blue')\n",
        "plt.ylabel(\"Cantidad\", c = 'red')\n",
        "plt.grid(b = True, lw = .4)\n",
        "plt.show()\n"
      ],
      "metadata": {
        "id": "whfefLt2v8sh"
      },
      "execution_count": null,
      "outputs": []
    },
    {
      "cell_type": "markdown",
      "source": [
        "# **Total de dólares utilizados diferenciando tarjetas de crédito por ciudad**"
      ],
      "metadata": {
        "id": "QjJH_xvDMDu8"
      }
    },
    {
      "cell_type": "code",
      "source": [
        "Ciudades = Tarjetas.groupby([\"City\", \"Card Type\"]).sum()\n",
        "print(Ciudades)\n",
        "Ciudades.to_csv(\"/content/Ciudades.csv\", sep = \";\")"
      ],
      "metadata": {
        "id": "32nuVsmvQisi"
      },
      "execution_count": null,
      "outputs": []
    },
    {
      "cell_type": "code",
      "source": [
        "tabla_Ciudad = pd.crosstab(index = Tarjetas['Card Type'], columns = 'fr')\n",
        "espacio = (0.1, 0.1, 0.1, 0.1)\n",
        "plt.pie(tabla_Ciudad, labels = tabla_Ciudad.index, autopct = '%0.1f %%', shadow = True, explode = espacio)\n",
        "plt.xlabel('Registro de gastos por tipo de tarjeta')\n",
        "plt.show()"
      ],
      "metadata": {
        "id": "rGRqMH5tcU53"
      },
      "execution_count": null,
      "outputs": []
    },
    {
      "cell_type": "code",
      "source": [],
      "metadata": {
        "id": "9dNYNQW6dGv3"
      },
      "execution_count": null,
      "outputs": []
    },
    {
      "cell_type": "markdown",
      "source": [
        "# **Total utilizado por tipo de gasto**"
      ],
      "metadata": {
        "id": "sXGF816YShZ7"
      }
    },
    {
      "cell_type": "code",
      "source": [
        "Gasto = Tarjetas.groupby(['Exp Type'])[['Amount']].sum()\n",
        "print(Gasto)\n",
        "\n",
        "\n",
        "Gasto.to_csv(\"/content/Gasto.csv\", sep = \";\")"
      ],
      "metadata": {
        "id": "zzaqPrvsP4tV"
      },
      "execution_count": null,
      "outputs": []
    },
    {
      "cell_type": "code",
      "source": [
        "tabla_Gasto = pd.crosstab(index = Tarjetas['Exp Type'], columns = 'fr')\n",
        "espacio = (0.1, 0.1, 0.1, 0.1, 0.1, 0.1)\n",
        "plt.pie(tabla_Gasto, labels = tabla_Gasto.index, autopct = '%0.1f %%', shadow = True, explode = espacio)\n",
        "plt.xlabel('Total utilizado por tipo de gasto')\n",
        "plt.show()\n"
      ],
      "metadata": {
        "id": "EzmgO4vwUXZR"
      },
      "execution_count": null,
      "outputs": []
    }
  ],
  "metadata": {
    "colab": {
      "collapsed_sections": [],
      "name": "Te damos la bienvenida a Colaboratory",
      "provenance": [],
      "include_colab_link": true
    },
    "kernelspec": {
      "display_name": "Python 3",
      "name": "python3"
    }
  },
  "nbformat": 4,
  "nbformat_minor": 0
}