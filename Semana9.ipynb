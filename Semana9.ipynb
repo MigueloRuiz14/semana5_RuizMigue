{
  "cells": [
    {
      "cell_type": "markdown",
      "metadata": {
        "id": "view-in-github",
        "colab_type": "text"
      },
      "source": [
        "<a href=\"https://colab.research.google.com/github/MigueloRuiz14/semana5_RuizMigue/blob/master/Semana9.ipynb\" target=\"_parent\"><img src=\"https://colab.research.google.com/assets/colab-badge.svg\" alt=\"Open In Colab\"/></a>"
      ]
    },
    {
      "cell_type": "code",
      "source": [
        "import pandas as pd\n",
        "import matplotlib.pyplot as plt"
      ],
      "metadata": {
        "id": "tFd2XGW691DU"
      },
      "execution_count": 201,
      "outputs": []
    },
    {
      "cell_type": "code",
      "source": [
        "Tarjetas =  pd.read_csv(\"/content/tarjetas.csv\", sep = \",\")\n",
        "print(Tarjetas)"
      ],
      "metadata": {
        "id": "JTVv7ifC-VpN"
      },
      "execution_count": null,
      "outputs": []
    },
    {
      "cell_type": "code",
      "source": [
        "Genero = Tarjetas.value_counts(\"Gender\")\n",
        "print(Genero)\n",
        "\n",
        "Genero.to_csv(\"/content/Genero.csv\", sep = \";\")"
      ],
      "metadata": {
        "id": "Q-Avl1DSMU68",
        "outputId": "5869dd13-fcee-4c97-dda5-359c1f47d426",
        "colab": {
          "base_uri": "https://localhost:8080/"
        }
      },
      "execution_count": 203,
      "outputs": [
        {
          "output_type": "stream",
          "name": "stdout",
          "text": [
            "Gender\n",
            "F    13680\n",
            "M    12372\n",
            "dtype: int64\n"
          ]
        }
      ]
    },
    {
      "cell_type": "code",
      "source": [
        "Genero.plot.bar()\n",
        "plt.bar(range(2), Genero, align='center', color=['red','green'])\n",
        "\n",
        "plt.xlabel(\"Género\", c = 'blue')\n",
        "plt.ylabel(\"Cantidad\", c = 'red')\n",
        "plt.grid(b = True, lw = .4)\n",
        "plt.show()\n"
      ],
      "metadata": {
        "id": "whfefLt2v8sh",
        "outputId": "61a019f6-5bf6-4b35-8b36-35f899959cff",
        "colab": {
          "base_uri": "https://localhost:8080/",
          "height": 278
        }
      },
      "execution_count": 215,
      "outputs": [
        {
          "output_type": "display_data",
          "data": {
            "text/plain": [
              "<Figure size 432x288 with 1 Axes>"
            ],
            "image/png": "[encoded data removed]"
          },
          "metadata": {
            "needs_background": "light"
          }
        }
      ]
    },
    {
      "cell_type": "markdown",
      "source": [
        "# **Total de dólares utilizados diferenciando tarjetas de crédito por ciudad**"
      ],
      "metadata": {
        "id": "QjJH_xvDMDu8"
      }
    },
    {
      "cell_type": "code",
      "source": [
        "Ciudades = Tarjetas.groupby(['City'])[['Card Type']].sum()\n",
        "print(Ciudades)\n",
        "\n",
        "Ciudades.to_csv(\"/content/Ciudades.csv\", sep = \",\")"
      ],
      "metadata": {
        "id": "32nuVsmvQisi",
        "outputId": "c7989b8f-5092-4000-aea8-7aabc830bcf8",
        "colab": {
          "base_uri": "https://localhost:8080/"
        }
      },
      "execution_count": 214,
      "outputs": [
        {
          "output_type": "stream",
          "name": "stdout",
          "text": [
            "                                                          Card Type\n",
            "City                                                               \n",
            "Achalpur, India   SignatureGoldGoldGoldPlatinumSignatureSignatur...\n",
            "Adilabad, India   PlatinumSignaturePlatinumPlatinumSignatureSign...\n",
            "Adityapur, India                GoldSilverPlatinumGoldSignatureGold\n",
            "Adoni, India      PlatinumSilverSignatureGoldGoldGoldSilverSigna...\n",
            "Adoor, India      PlatinumPlatinumSignatureSignatureSignatureSil...\n",
            "...                                                             ...\n",
            "Zaidpur, India              SilverSignatureSignatureSignatureSilver\n",
            "Zamania, India        SilverSilverSignatureSignatureSilverSignature\n",
            "Zira, India       SignaturePlatinumGoldPlatinumSilverGoldGoldPla...\n",
            "Zirakpur, India                            PlatinumPlatinumPlatinum\n",
            "Zunheboto, India                              SignatureSilverSilver\n",
            "\n",
            "[986 rows x 1 columns]\n"
          ]
        }
      ]
    },
    {
      "cell_type": "code",
      "source": [],
      "metadata": {
        "id": "zzaqPrvsP4tV"
      },
      "execution_count": null,
      "outputs": []
    },
    {
      "cell_type": "code",
      "source": [],
      "metadata": {
        "id": "0J-IgmTsb_zZ"
      },
      "execution_count": null,
      "outputs": []
    }
  ],
  "metadata": {
    "colab": {
      "collapsed_sections": [],
      "name": "Te damos la bienvenida a Colaboratory",
      "provenance": [],
      "include_colab_link": true
    },
    "kernelspec": {
      "display_name": "Python 3",
      "name": "python3"
    }
  },
  "nbformat": 4,
  "nbformat_minor": 0
}