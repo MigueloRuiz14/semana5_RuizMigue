{
  "cells": [
    {
      "cell_type": "markdown",
      "metadata": {
        "id": "view-in-github",
        "colab_type": "text"
      },
      "source": [
        "<a href=\"https://colab.research.google.com/github/MigueloRuiz14/semana5_RuizMigue/blob/master/Semana9.ipynb\" target=\"_parent\"><img src=\"https://colab.research.google.com/assets/colab-badge.svg\" alt=\"Open In Colab\"/></a>"
      ]
    },
    {
      "cell_type": "code",
      "source": [
        "import pandas as pd\n",
        "import matplotlib.pyplot as plt"
      ],
      "metadata": {
        "id": "tFd2XGW691DU"
      },
      "execution_count": 15,
      "outputs": []
    },
    {
      "cell_type": "code",
      "source": [
        "Tarjetas =  pd.read_csv(\"/content/tarjetas.csv\", sep = \",\")\n",
        "print(Tarjetas)"
      ],
      "metadata": {
        "id": "JTVv7ifC-VpN"
      },
      "execution_count": null,
      "outputs": []
    },
    {
      "cell_type": "code",
      "source": [
        "Genero = Tarjetas.value_counts(\"Gender\")\n",
        "print(Genero)\n",
        "\n",
        "Genero.to_csv(\"/content/Genero.csv\", sep = \";\")"
      ],
      "metadata": {
        "id": "Q-Avl1DSMU68"
      },
      "execution_count": null,
      "outputs": []
    },
    {
      "cell_type": "code",
      "source": [
        "tabla_Genero = pd.crosstab(index = Tarjetas[\"Gender\"], columns = \"fr\")\n",
        "plt.pie(tabla_Genero, labels = tabla_Genero.index)\n",
        "plt.xlabel(\"Cantidad de cada genero F y M\")\n",
        "plt.show()\n",
        "print(tabla_Genero)"
      ],
      "metadata": {
        "id": "9rPWMdydPZ7P"
      },
      "execution_count": null,
      "outputs": []
    },
    {
      "cell_type": "code",
      "source": [
        "Ciudades = (Tarjetas.value_counts(\"City\")==None)\n",
        "print(Ciudades)\n"
      ],
      "metadata": {
        "id": "zzaqPrvsP4tV",
        "outputId": "aa3ce1f1-d802-460b-a458-10e5ee414ce2",
        "colab": {
          "base_uri": "https://localhost:8080/"
        }
      },
      "execution_count": 40,
      "outputs": [
        {
          "output_type": "stream",
          "name": "stdout",
          "text": [
            "City\n",
            "Bengaluru, India         False\n",
            "Greater Mumbai, India    False\n",
            "Ahmedabad, India         False\n",
            "Delhi, India             False\n",
            "Hyderabad, India         False\n",
            "                         ...  \n",
            "Tirur, India             False\n",
            "Mahbubnagar, India       False\n",
            "Alirajpur, India         False\n",
            "Varanasi, India          False\n",
            "Vellore, India           False\n",
            "Length: 986, dtype: bool\n"
          ]
        }
      ]
    },
    {
      "cell_type": "code",
      "source": [],
      "metadata": {
        "id": "0J-IgmTsb_zZ"
      },
      "execution_count": null,
      "outputs": []
    }
  ],
  "metadata": {
    "colab": {
      "collapsed_sections": [],
      "name": "Te damos la bienvenida a Colaboratory",
      "provenance": [],
      "include_colab_link": true
    },
    "kernelspec": {
      "display_name": "Python 3",
      "name": "python3"
    }
  },
  "nbformat": 4,
  "nbformat_minor": 0
}