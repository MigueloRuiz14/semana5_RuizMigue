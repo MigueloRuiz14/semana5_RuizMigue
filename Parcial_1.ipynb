{
  "cells": [
    {
      "cell_type": "markdown",
      "metadata": {
        "id": "view-in-github",
        "colab_type": "text"
      },
      "source": [
        "<a href=\"https://colab.research.google.com/github/MigueloRuiz14/semana5_RuizMigue/blob/master/Parcial_1.ipynb\" target=\"_parent\"><img src=\"https://colab.research.google.com/assets/colab-badge.svg\" alt=\"Open In Colab\"/></a>"
      ]
    },
    {
      "cell_type": "markdown",
      "source": [
        "### **PARCIAL 1**"
      ],
      "metadata": {
        "id": "yMXPkrUzMGLk"
      }
    },
    {
      "cell_type": "markdown",
      "source": [
        "#**EJERCICIO 1**"
      ],
      "metadata": {
        "id": "aeyDhAukL9NZ"
      }
    },
    {
      "cell_type": "code",
      "source": [],
      "metadata": {
        "id": "I1tUFQAaMSAe"
      },
      "execution_count": null,
      "outputs": []
    },
    {
      "cell_type": "markdown",
      "source": [
        "# **EJERCICIO 2**"
      ],
      "metadata": {
        "id": "m_iNv8v_PMdb"
      }
    },
    {
      "cell_type": "code",
      "source": [
        "def Impuesto1(cantidad):\n",
        "  return (cantidad - 0.01)/ 1000 * 0 + 1.5\n",
        "\n",
        "def Impuesto2(cantidad):\n",
        "  return (cantidad - 500.01)/ 1000 * 3 + 1.5\n",
        "\n",
        "def Impuesto3(cantidad):\n",
        "  return (cantidad - 1000.01)/ 1000 * 3 + 3\n",
        "\n",
        "def Impuesto4(cantidad):\n",
        "  return (cantidad - 2000.01)/ 1000 * 3 + 6\n",
        "\n",
        "def Impuesto5(cantidad):\n",
        "  return (cantidad - 3000.01)/ 1000 * 2 + 9 \n",
        "\n",
        "def Impuesto6(cantidad):\n",
        "  return (cantidad - 8000.01)/ 1000 * 2 + 15\n",
        "\n",
        "def Impuesto7(cantidad):\n",
        "  return (cantidad - 18000.01)/ 1000 * 2 + 39\n",
        "\n",
        "def Impuesto8(cantidad):\n",
        "  return (cantidad - 30000.01)/ 1000 * 1 + 63\n",
        "\n",
        "def Impuesto9(cantidad):\n",
        "  return (cantidad - 60000.01)/ 1000 * 0.8 + 93\n",
        "\n",
        "def Impuesto10(cantidad):\n",
        "  return (cantidad - 100000.01)/ 1000 * 0.7 + 125\n",
        "\n",
        "def Impuesto11(cantidad):\n",
        "  return (cantidad - 200000.01)/ 1000 * 0.6 + 195\n",
        "\n",
        "def Impuesto12(cantidad):\n",
        "  return (cantidad - 300000.01)/ 1000 * 0.45 + 255\n",
        "\n",
        "def Impuesto13(cantidad):\n",
        "  return (cantidad - 400000.01)/ 1000 * 0.4 + 300\n",
        "\n",
        "def Impuesto14(cantidad):\n",
        "  return (cantidad - 500000.01)/ 1000 * 0.30 + 340\n",
        "\n",
        "def Impuesto15(cantidad):\n",
        "  return (cantidad - 1000000.01)/ 1000 * 0.18 + 490\n"
      ],
      "metadata": {
        "id": "kN-xJJz1PQM8"
      },
      "execution_count": 78,
      "outputs": []
    },
    {
      "cell_type": "code",
      "source": [
        "cantidad = float(input(\"Ingrese una cantidad: \"))"
      ],
      "metadata": {
        "colab": {
          "base_uri": "https://localhost:8080/"
        },
        "id": "l5dRuHgLUfhT",
        "outputId": "b368a606-b736-49e4-cb44-7fc837144bd1"
      },
      "execution_count": 79,
      "outputs": [
        {
          "name": "stdout",
          "output_type": "stream",
          "text": [
            "Ingrese una cantidad: 350000\n"
          ]
        }
      ]
    },
    {
      "cell_type": "code",
      "source": [
        "im1 = Impuesto1(cantidad)\n",
        "\n",
        "im2 = Impuesto2(cantidad)\n",
        "\n",
        "im3 = Impuesto3(cantidad)\n",
        "\n",
        "im4 = Impuesto4(cantidad)\n",
        "\n",
        "im5 = Impuesto5(cantidad)\n",
        "\n",
        "im6 = Impuesto6(cantidad)\n",
        "\n",
        "im7 = Impuesto7(cantidad)\n",
        "\n",
        "im8 = Impuesto8(cantidad)\n",
        "\n",
        "im9 = Impuesto9(cantidad)\n",
        "\n",
        "im10 = Impuesto10(cantidad)\n",
        "\n",
        "im11 = Impuesto11(cantidad)\n",
        "\n",
        "im12 = Impuesto12(cantidad)\n",
        "\n",
        "im13 = Impuesto13(cantidad)\n",
        "\n",
        "im14 = Impuesto14(cantidad)\n",
        "\n",
        "im15 = Impuesto15(cantidad)"
      ],
      "metadata": {
        "id": "45uaOb16Uj9o"
      },
      "execution_count": 80,
      "outputs": []
    },
    {
      "cell_type": "code",
      "source": [
        "if cantidad >=0.01 and cantidad <= 500:\n",
        "  print(\"En\", cantidad, \"su impuesto es de: \", im1)\n",
        "\n",
        "elif cantidad >=500.01 and cantidad <= 1000:\n",
        "  print(\"En\", cantidad, \"su impuesto es de: \", im2)\n",
        "\n",
        "elif cantidad >=1000.01 and cantidad <= 2000:\n",
        "  print(\"En\", cantidad, \"su impuesto es de: \", im3)\n",
        "\n",
        "elif cantidad >=2000.01 and cantidad <= 3000:\n",
        "  print(\"En\", cantidad, \"su impuesto es de: \", im4)\n",
        "\n",
        "elif cantidad >=3000.01 and cantidad <= 8000:\n",
        "  print(\"En\", cantidad, \"su impuesto es de: \", im5)\n",
        "\n",
        "elif cantidad >=8000.01 and cantidad <= 18000:\n",
        "  print(\"En\", cantidad, \"su impuesto es de: \", im6)\n",
        "\n",
        "elif cantidad >=18000.01 and cantidad <= 30000:\n",
        "  print(\"En\", cantidad, \"su impuesto es de: \", im7)\n",
        "\n",
        "elif cantidad >=30000.01 and cantidad <= 60000:\n",
        "  print(\"En\", cantidad, \"su impuesto es de: \", im8)\n",
        "\n",
        "elif cantidad >=60000.01 and cantidad <= 100000:\n",
        "  print(\"En\", cantidad, \"su impuesto es de: \", im9)\n",
        "\n",
        "elif cantidad >=100000.01 and cantidad <= 200000:\n",
        "  print(\"En\", cantidad, \"su impuesto es de: \", im10)\n",
        "\n",
        "elif cantidad >=200000.01 and cantidad <= 300000:\n",
        "  print(\"En\", cantidad, \"su impuesto es de: \", im11)\n",
        "\n",
        "elif cantidad >=300000.01 and cantidad <= 400000:\n",
        "  print(\"En\", cantidad, \"su impuesto es de: \", im12)\n",
        "\n",
        "elif cantidad >=400000.01 and cantidad <= 500000:\n",
        "  print(\"En\", cantidad, \"su impuesto es de: \", im13)\n",
        "\n",
        "elif cantidad >=500000.01 and cantidad <= 1000000:\n",
        "  print(\"En\", cantidad, \"su impuesto es de: \", im14)\n",
        "\n",
        "elif cantidad >=1000000.01 and cantidad <= 99999999:\n",
        "  print(\"En\", cantidad, \"su impuesto es de: \", im15)"
      ],
      "metadata": {
        "colab": {
          "base_uri": "https://localhost:8080/"
        },
        "id": "vd2IYFiWUnf5",
        "outputId": "f47f636b-4aec-467e-d0e1-e4c65feb373d"
      },
      "execution_count": 81,
      "outputs": [
        {
          "output_type": "stream",
          "name": "stdout",
          "text": [
            "En 350000.0 su impuesto es de:  277.4999955\n"
          ]
        }
      ]
    },
    {
      "cell_type": "markdown",
      "source": [
        "# **EJERCICIO 3**"
      ],
      "metadata": {
        "id": "hVmisRPRqwMM"
      }
    },
    {
      "cell_type": "code",
      "source": [
        "area = [\n",
        "   \"Seleccione lo que desea convertir: \", \"1. Metro Cuadrado\", \"2. Pie cuadrado\", \"3. Vara Cuadrada\", \"4. Yarda cuadrada\", \"5. Tareas\", \"6. Manzana\", \"7. Hectárea\"\n",
        "    ]\n",
        "\n",
        "    \n",
        "valores = [\n",
        "  0, 1, 10.7639, 1.431, 1.19599, 0.0015903307888, 0.000143326997250872, 0.0001\n",
        "]"
      ],
      "metadata": {
        "id": "F-A2kvpyqzyc"
      },
      "execution_count": 115,
      "outputs": []
    },
    {
      "cell_type": "code",
      "source": [
        "def convertir(valores, de, a, cantidad):\n",
        "  return valores[a] / valores[de] * cantidad"
      ],
      "metadata": {
        "id": "uGrZMIlsrT09"
      },
      "execution_count": 116,
      "outputs": []
    },
    {
      "cell_type": "code",
      "source": [
        "print(\"** CONVERSOR DE ÁREA **\")\n",
        "\n",
        "\n",
        "print( area)\n",
        "de = int(input(\"DE: \"))\n",
        "a = int(input(\"A: \"))\n",
        "cantidad = float(input(\"Cantidad: \"))\n",
        "\n",
        "print( area[de], \" en \", area[a], \" equivale a: \", convertir(valores, de, a, cantidad) )"
      ],
      "metadata": {
        "id": "g7iF7M9SrX1T"
      },
      "execution_count": null,
      "outputs": []
    }
  ],
  "metadata": {
    "colab": {
      "collapsed_sections": [],
      "name": "Te damos la bienvenida a Colaboratory",
      "provenance": [],
      "include_colab_link": true
    },
    "kernelspec": {
      "display_name": "Python 3",
      "name": "python3"
    }
  },
  "nbformat": 4,
  "nbformat_minor": 0
}