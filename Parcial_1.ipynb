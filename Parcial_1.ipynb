{
  "cells": [
    {
      "cell_type": "markdown",
      "metadata": {
        "id": "view-in-github",
        "colab_type": "text"
      },
      "source": [
        "<a href=\"https://colab.research.google.com/github/MigueloRuiz14/semana5_RuizMigue/blob/master/Parcial_1.ipynb\" target=\"_parent\"><img src=\"https://colab.research.google.com/assets/colab-badge.svg\" alt=\"Open In Colab\"/></a>"
      ]
    },
    {
      "cell_type": "markdown",
      "source": [
        "### **PARCIAL 1**"
      ],
      "metadata": {
        "id": "yMXPkrUzMGLk"
      }
    },
    {
      "cell_type": "markdown",
      "source": [
        "#**EJERCICIO 1**"
      ],
      "metadata": {
        "id": "aeyDhAukL9NZ"
      }
    },
    {
      "cell_type": "code",
      "source": [],
      "metadata": {
        "id": "I1tUFQAaMSAe"
      },
      "execution_count": null,
      "outputs": []
    },
    {
      "cell_type": "markdown",
      "source": [
        "# **EJERCICIO 2**"
      ],
      "metadata": {
        "id": "m_iNv8v_PMdb"
      }
    },
    {
      "cell_type": "code",
      "source": [
        "def Impuesto1(cantidad):\n",
        "  return (cantidad - 0.01)/ 1000 * 0 + 1.5\n",
        "\n",
        "def Impuesto2(cantidad):\n",
        "  return (cantidad - 500.01)/ 1000 * 3 + 1.5\n",
        "\n",
        "def Impuesto3(cantidad):\n",
        "  return (cantidad - 1000.01)/ 1000 * 3 + 3\n",
        "\n",
        "def Impuesto4(cantidad):\n",
        "  return (cantidad - 2000.01)/ 1000 * 3 + 6\n",
        "\n",
        "def Impuesto5(cantidad):\n",
        "  return (cantidad - 3000.01)/ 1000 * 2 + 9 \n",
        "\n",
        "def Impuesto6(cantidad):\n",
        "  return (cantidad - 8000.01)/ 1000 * 2 + 15\n",
        "\n",
        "def Impuesto7(cantidad):\n",
        "  return (cantidad - 18000.01)/ 1000 * 2 + 39\n",
        "\n",
        "def Impuesto8(cantidad):\n",
        "  return (cantidad - 30000.01)/ 1000 * 1 + 63\n",
        "\n",
        "def Impuesto9(cantidad):\n",
        "  return (cantidad - 60000.01)/ 1000 * 0.8 + 93\n",
        "\n",
        "def Impuesto10(cantidad):\n",
        "  return (cantidad - 100000.01)/ 1000 * 0.7 + 125\n",
        "\n",
        "def Impuesto11(cantidad):\n",
        "  return (cantidad - 200000.01)/ 1000 * 0.6 + 195\n",
        "\n",
        "def Impuesto12(cantidad):\n",
        "  return (cantidad - 300000.01)/ 1000 * 0.45 + 255\n",
        "\n",
        "def Impuesto13(cantidad):\n",
        "  return (cantidad - 400000.01)/ 1000 * 0.4 + 300\n",
        "\n",
        "def Impuesto14(cantidad):\n",
        "  return (cantidad - 500000.01)/ 1000 * 0.30 + 340\n",
        "\n",
        "def Impuesto15(cantidad):\n",
        "  return (cantidad - 1000000.01)/ 1000 * 0.18 + 490\n"
      ],
      "metadata": {
        "id": "kN-xJJz1PQM8"
      },
      "execution_count": null,
      "outputs": []
    },
    {
      "cell_type": "code",
      "source": [
        "cantidad = float(input(\"Ingrese una cantidad: \"))"
      ],
      "metadata": {
        "colab": {
          "base_uri": "https://localhost:8080/"
        },
        "id": "l5dRuHgLUfhT",
        "outputId": "b368a606-b736-49e4-cb44-7fc837144bd1"
      },
      "execution_count": null,
      "outputs": [
        {
          "name": "stdout",
          "output_type": "stream",
          "text": [
            "Ingrese una cantidad: 350000\n"
          ]
        }
      ]
    },
    {
      "cell_type": "code",
      "source": [
        "im1 = Impuesto1(cantidad)\n",
        "\n",
        "im2 = Impuesto2(cantidad)\n",
        "\n",
        "im3 = Impuesto3(cantidad)\n",
        "\n",
        "im4 = Impuesto4(cantidad)\n",
        "\n",
        "im5 = Impuesto5(cantidad)\n",
        "\n",
        "im6 = Impuesto6(cantidad)\n",
        "\n",
        "im7 = Impuesto7(cantidad)\n",
        "\n",
        "im8 = Impuesto8(cantidad)\n",
        "\n",
        "im9 = Impuesto9(cantidad)\n",
        "\n",
        "im10 = Impuesto10(cantidad)\n",
        "\n",
        "im11 = Impuesto11(cantidad)\n",
        "\n",
        "im12 = Impuesto12(cantidad)\n",
        "\n",
        "im13 = Impuesto13(cantidad)\n",
        "\n",
        "im14 = Impuesto14(cantidad)\n",
        "\n",
        "im15 = Impuesto15(cantidad)"
      ],
      "metadata": {
        "id": "45uaOb16Uj9o"
      },
      "execution_count": null,
      "outputs": []
    },
    {
      "cell_type": "code",
      "source": [
        "if cantidad >=0.01 and cantidad <= 500:\n",
        "  print(\"En\", cantidad, \"su impuesto es de: \", im1)\n",
        "\n",
        "elif cantidad >=500.01 and cantidad <= 1000:\n",
        "  print(\"En\", cantidad, \"su impuesto es de: \", im2)\n",
        "\n",
        "elif cantidad >=1000.01 and cantidad <= 2000:\n",
        "  print(\"En\", cantidad, \"su impuesto es de: \", im3)\n",
        "\n",
        "elif cantidad >=2000.01 and cantidad <= 3000:\n",
        "  print(\"En\", cantidad, \"su impuesto es de: \", im4)\n",
        "\n",
        "elif cantidad >=3000.01 and cantidad <= 8000:\n",
        "  print(\"En\", cantidad, \"su impuesto es de: \", im5)\n",
        "\n",
        "elif cantidad >=8000.01 and cantidad <= 18000:\n",
        "  print(\"En\", cantidad, \"su impuesto es de: \", im6)\n",
        "\n",
        "elif cantidad >=18000.01 and cantidad <= 30000:\n",
        "  print(\"En\", cantidad, \"su impuesto es de: \", im7)\n",
        "\n",
        "elif cantidad >=30000.01 and cantidad <= 60000:\n",
        "  print(\"En\", cantidad, \"su impuesto es de: \", im8)\n",
        "\n",
        "elif cantidad >=60000.01 and cantidad <= 100000:\n",
        "  print(\"En\", cantidad, \"su impuesto es de: \", im9)\n",
        "\n",
        "elif cantidad >=100000.01 and cantidad <= 200000:\n",
        "  print(\"En\", cantidad, \"su impuesto es de: \", im10)\n",
        "\n",
        "elif cantidad >=200000.01 and cantidad <= 300000:\n",
        "  print(\"En\", cantidad, \"su impuesto es de: \", im11)\n",
        "\n",
        "elif cantidad >=300000.01 and cantidad <= 400000:\n",
        "  print(\"En\", cantidad, \"su impuesto es de: \", im12)\n",
        "\n",
        "elif cantidad >=400000.01 and cantidad <= 500000:\n",
        "  print(\"En\", cantidad, \"su impuesto es de: \", im13)\n",
        "\n",
        "elif cantidad >=500000.01 and cantidad <= 1000000:\n",
        "  print(\"En\", cantidad, \"su impuesto es de: \", im14)\n",
        "\n",
        "elif cantidad >=1000000.01 and cantidad <= 99999999:\n",
        "  print(\"En\", cantidad, \"su impuesto es de: \", im15)"
      ],
      "metadata": {
        "colab": {
          "base_uri": "https://localhost:8080/"
        },
        "id": "vd2IYFiWUnf5",
        "outputId": "f47f636b-4aec-467e-d0e1-e4c65feb373d"
      },
      "execution_count": null,
      "outputs": [
        {
          "output_type": "stream",
          "name": "stdout",
          "text": [
            "En 350000.0 su impuesto es de:  277.4999955\n"
          ]
        }
      ]
    },
    {
      "cell_type": "markdown",
      "source": [
        "# **EJERCICIO 3**"
      ],
      "metadata": {
        "id": "hVmisRPRqwMM"
      }
    },
    {
      "cell_type": "code",
      "source": [
        "area = [\n",
        "   \"Seleccione lo que desea convertir: \", \"1. Metro Cuadrado\", \"2. Pie cuadrado\", \"3. Vara Cuadrada\", \"4. Yarda cuadrada\", \"5. Tareas\", \"6. Manzana\", \"7. Hectárea\"\n",
        "    ]\n",
        "\n",
        "    \n",
        "valores = [\n",
        "  0, 1, 10.7639, 1.431, 1.19599, 0.0015903307888, 0.000143326997250872, 0.0001\n",
        "]"
      ],
      "metadata": {
        "id": "F-A2kvpyqzyc"
      },
      "execution_count": null,
      "outputs": []
    },
    {
      "cell_type": "code",
      "source": [
        "def convertir(valores, de, a, cantidad):\n",
        "  return valores[a] / valores[de] * cantidad"
      ],
      "metadata": {
        "id": "uGrZMIlsrT09"
      },
      "execution_count": null,
      "outputs": []
    },
    {
      "cell_type": "code",
      "source": [
        "print(\"** CONVERSOR DE ÁREA **\")\n",
        "\n",
        "\n",
        "print( area)\n",
        "de = int(input(\"DE: \"))\n",
        "a = int(input(\"A: \"))\n",
        "cantidad = float(input(\"Cantidad: \"))\n",
        "\n",
        "print( area[de], \" en \", area[a], \" equivale a: \", convertir(valores, de, a, cantidad) )"
      ],
      "metadata": {
        "id": "g7iF7M9SrX1T"
      },
      "execution_count": null,
      "outputs": []
    },
    {
      "cell_type": "markdown",
      "source": [
        "# **EJERCICIO 4**"
      ],
      "metadata": {
        "id": "8PNhAZm0lmnQ"
      }
    },
    {
      "cell_type": "code",
      "source": [
        "billete100 = 100\n",
        "billete50 = 100\n",
        "billete20 = 100\n",
        "billete10 = 100\n",
        "billete5 = 100\n",
        "billete1 = 100\n",
        "moneda025 = 100\n",
        "moneda01 = 100\n",
        "moneda005 = 100\n",
        "moneda001 = 100\n",
        " \n",
        "def Cajero(cantidad):\n",
        "  global billete100, billete50, billete20, billete10, billete5, billete1, moneda025, moneda01, moneda005, moneda001\n",
        "  if cantidad <= 100 * billete100 + 50 * billete50 + 20 * billete20 + 10 * billete10 + 5 * billete5 + 1 * billete1 + 0.25 * moneda025 + 0.1 * moneda01 + 0.05 * moneda005 + 0.01 * moneda001:\n",
        "    \n",
        "    \n",
        "    bi100 = int(cantidad/100)\n",
        "    cantidad = cantidad % 100\n",
        "    if bi100 >= billete100: \n",
        "        cantidad = cantidad + (bi100 - billete100) * 100\n",
        "        bi100 = billete100\n",
        "  \n",
        "    bi50 = int(cantidad/50)\n",
        "    cantidad = cantidad % 50\n",
        "    if bi50 >= billete50: \n",
        "      cantidad = cantidad + (bi50 - billete50) * 50\n",
        "      bi50 = billete50\n",
        " \n",
        "    bi20 = int(cantidad/20)\n",
        "    cantidad = cantidad % 20\n",
        "    if bi20 >= billete20: \n",
        "      cantidad = cantidad + (bi20 - billete20) * 20\n",
        "      bi20 = billete20\n",
        " \n",
        "    bi10 = int(cantidad/10)\n",
        "    cantidad = cantidad % 10\n",
        "    if bi10 >= billete10: \n",
        "      cantidad = cantidad + (bi10 - billete10) * 10\n",
        "      bi10 = billete10\n",
        " \n",
        "    bi5 = int(cantidad/5)\n",
        "    cantidad = cantidad % 5\n",
        "    if bi5  >= billete5: \n",
        "        cantidad = cantidad + (bi5 - billete5) * 5\n",
        "        bi5 = billete5\n",
        "\n",
        "    bi1 = int(cantidad/1)\n",
        "    cantidad = cantidad % 1\n",
        "    if bi1  >= billete1: \n",
        "        cantidad = cantidad + (bi1 - billete1) * 1\n",
        "        bi1 = billete1\n",
        "\n",
        "    mo025 = int(cantidad/0.25)\n",
        "    cantidad = cantidad % 0.25\n",
        "    if mo025  >= moneda025: \n",
        "        cantidad = cantidad + (mo025 - moneda025) * 0.25\n",
        "        mo025 = moneda025\n",
        "    \n",
        "    mo01 = int(cantidad/0.1)\n",
        "    cantidad = cantidad % 0.1\n",
        "    if mo01  >= moneda01: \n",
        "        cantidad = cantidad + (mo01 - moneda01) * 0.1\n",
        "        mo01 = moneda01\n",
        "\n",
        "    mo005 = int(cantidad/0.05)\n",
        "    cantidad = cantidad % 0.05\n",
        "    if mo005  >= moneda005: \n",
        "        cantidad = cantidad + (mo005 - moneda005) * 0.05\n",
        "        mo005 = moneda005\n",
        "    \n",
        "    mo001 = int(cantidad/0.01)\n",
        "    cantidad = cantidad % 0.01\n",
        "    if mo001  >= moneda001: \n",
        "        cantidad = cantidad + (mo001 - moneda001) * 0.01\n",
        "        mo001 = moneda001\n",
        " \n",
        " \n",
        "    if cantidad == 0:\n",
        "      billete100= billete100 - bi100\n",
        "      billete50 = billete50 - bi50\n",
        "      billete20 = billete20 - bi20\n",
        "      billete10 = billete10 - bi10\n",
        "      billete5 = billete5 - bi5\n",
        "      billete1 = billete1 - bi1\n",
        "      moneda025 = moneda025 - mo025\n",
        "      moneda01 = moneda01 - mo01\n",
        "      moneda005 = moneda005 - mo005\n",
        "      moneda001 = moneda001 - mo001\n",
        "\n",
        "      return [bi100, bi50, bi20, bi10, bi5, bi1, mo025, mo01, mo005, mo001]\n",
        "    else: \n",
        "     return [0, 0, 0, 0, 0, 0, 0, 0, 0, 0]\n",
        "  else:\n",
        "    return [-1, -1, -1, -1, -1, -1, -1, -1, -1, -1]\n",
        " \n",
        "try:\n",
        "    c = float(input(\"Ingrese una cantidad: \"))\n",
        "    resultado = Cajero(c)\n",
        "\n",
        "    if resultado == [0, 0, 0, 0, 0, 0, 0, 0, 0, 0]:\n",
        "        print(\"No hay tal cantidad\")\n",
        "\n",
        "    elif resultado == [-1, -1, -1, -1, -1, -1, -1, -1, -1, -1]:\n",
        "        print(\"No hay suficientes billetes\")\n",
        "\n",
        "    else:\n",
        "        print(\"Billetes de 100: \", resultado[0])\n",
        "        print(\"Billetes de 50: \", resultado[1])\n",
        "        print(\"Billetes de 20: \", resultado[2])\n",
        "        print(\"Billetes de 10: \", resultado[3])\n",
        "        print(\"Billetes de 5: \", resultado[4])\n",
        "        print(\"Billetes de 1: \", resultado[5])\n",
        "        print(\"Monedas de 0.25: \", resultado[6])\n",
        "        print(\"Monedas de 0.1: \", resultado[7])\n",
        "        print(\"Monedas de 0.05: \", resultado[8])\n",
        "        print(\"Monedas de 0.01: \", resultado[9])\n",
        "except:\n",
        "    print (\"Importe incorrecto\")"
      ],
      "metadata": {
        "id": "hUz_XvUylszw"
      },
      "execution_count": null,
      "outputs": []
    }
  ],
  "metadata": {
    "colab": {
      "collapsed_sections": [],
      "name": "Te damos la bienvenida a Colaboratory",
      "provenance": [],
      "include_colab_link": true
    },
    "kernelspec": {
      "display_name": "Python 3",
      "name": "python3"
    }
  },
  "nbformat": 4,
  "nbformat_minor": 0
}