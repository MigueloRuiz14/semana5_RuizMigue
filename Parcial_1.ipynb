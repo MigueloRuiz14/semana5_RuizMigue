{
  "cells": [
    {
      "cell_type": "markdown",
      "metadata": {
        "id": "view-in-github",
        "colab_type": "text"
      },
      "source": [
        "<a href=\"https://colab.research.google.com/github/MigueloRuiz14/semana5_RuizMigue/blob/master/Parcial_1.ipynb\" target=\"_parent\"><img src=\"https://colab.research.google.com/assets/colab-badge.svg\" alt=\"Open In Colab\"/></a>"
      ]
    },
    {
      "cell_type": "markdown",
      "source": [
        "### **PARCIAL 1**"
      ],
      "metadata": {
        "id": "yMXPkrUzMGLk"
      }
    },
    {
      "cell_type": "markdown",
      "source": [
        "#**EJERCICIO 1**"
      ],
      "metadata": {
        "id": "aeyDhAukL9NZ"
      }
    },
    {
      "cell_type": "code",
      "source": [],
      "metadata": {
        "id": "I1tUFQAaMSAe"
      },
      "execution_count": null,
      "outputs": []
    },
    {
      "cell_type": "markdown",
      "source": [
        "# **EJERCICIO 2**"
      ],
      "metadata": {
        "id": "m_iNv8v_PMdb"
      }
    },
    {
      "cell_type": "code",
      "source": [
        "def Impuesto1(cantidad):\n",
        "  return (cantidad - 0.01)/ 1000 * 0 + 1.5\n",
        "\n",
        "def Impuesto2(cantidad):\n",
        "  return (cantidad - 500.01)/ 1000 * 3 + 1.5\n",
        "\n",
        "def Impuesto3(cantidad):\n",
        "  return (cantidad - 1000.01)/ 1000 * 3 + 3\n",
        "\n",
        "def Impuesto4(cantidad):\n",
        "  return (cantidad - 2000.01)/ 1000 * 3 + 6\n",
        "\n",
        "def Impuesto5(cantidad):\n",
        "  return (cantidad - 3000.01)/ 1000 * 2 + 9 \n",
        "\n",
        "def Impuesto6(cantidad):\n",
        "  return (cantidad - 8000.01)/ 1000 * 2 + 15\n",
        "\n",
        "def Impuesto7(cantidad):\n",
        "  return (cantidad - 18000.01)/ 1000 * 2 + 39\n",
        "\n",
        "def Impuesto8(cantidad):\n",
        "  return (cantidad - 30000.01)/ 1000 * 1 + 63\n",
        "\n",
        "def Impuesto9(cantidad):\n",
        "  return (cantidad - 60000.01)/ 1000 * 0.8 + 93\n",
        "\n",
        "def Impuesto10(cantidad):\n",
        "  return (cantidad - 100000.01)/ 1000 * 0.7 + 125\n",
        "\n",
        "def Impuesto11(cantidad):\n",
        "  return (cantidad - 200000.01)/ 1000 * 0.6 + 195\n",
        "\n",
        "def Impuesto12(cantidad):\n",
        "  return (cantidad - 300000.01)/ 1000 * 0.45 + 255\n",
        "\n",
        "def Impuesto13(cantidad):\n",
        "  return (cantidad - 400000.01)/ 1000 * 0.4 + 300\n",
        "\n",
        "def Impuesto14(cantidad):\n",
        "  return (cantidad - 500000.01)/ 1000 * 0.30 + 340\n",
        "\n",
        "def Impuesto15(cantidad):\n",
        "  return (cantidad - 1000000.01)/ 1000 * 0.18 + 490\n"
      ],
      "metadata": {
        "id": "kN-xJJz1PQM8"
      },
      "execution_count": null,
      "outputs": []
    },
    {
      "cell_type": "code",
      "source": [
        "cantidad = float(input(\"Ingrese una cantidad: \"))"
      ],
      "metadata": {
        "colab": {
          "base_uri": "https://localhost:8080/"
        },
        "id": "l5dRuHgLUfhT",
        "outputId": "b368a606-b736-49e4-cb44-7fc837144bd1"
      },
      "execution_count": null,
      "outputs": [
        {
          "name": "stdout",
          "output_type": "stream",
          "text": [
            "Ingrese una cantidad: 350000\n"
          ]
        }
      ]
    },
    {
      "cell_type": "code",
      "source": [
        "im1 = Impuesto1(cantidad)\n",
        "\n",
        "im2 = Impuesto2(cantidad)\n",
        "\n",
        "im3 = Impuesto3(cantidad)\n",
        "\n",
        "im4 = Impuesto4(cantidad)\n",
        "\n",
        "im5 = Impuesto5(cantidad)\n",
        "\n",
        "im6 = Impuesto6(cantidad)\n",
        "\n",
        "im7 = Impuesto7(cantidad)\n",
        "\n",
        "im8 = Impuesto8(cantidad)\n",
        "\n",
        "im9 = Impuesto9(cantidad)\n",
        "\n",
        "im10 = Impuesto10(cantidad)\n",
        "\n",
        "im11 = Impuesto11(cantidad)\n",
        "\n",
        "im12 = Impuesto12(cantidad)\n",
        "\n",
        "im13 = Impuesto13(cantidad)\n",
        "\n",
        "im14 = Impuesto14(cantidad)\n",
        "\n",
        "im15 = Impuesto15(cantidad)"
      ],
      "metadata": {
        "id": "45uaOb16Uj9o"
      },
      "execution_count": null,
      "outputs": []
    },
    {
      "cell_type": "code",
      "source": [
        "if cantidad >=0.01 and cantidad <= 500:\n",
        "  print(\"En\", cantidad, \"su impuesto es de: \", im1)\n",
        "\n",
        "elif cantidad >=500.01 and cantidad <= 1000:\n",
        "  print(\"En\", cantidad, \"su impuesto es de: \", im2)\n",
        "\n",
        "elif cantidad >=1000.01 and cantidad <= 2000:\n",
        "  print(\"En\", cantidad, \"su impuesto es de: \", im3)\n",
        "\n",
        "elif cantidad >=2000.01 and cantidad <= 3000:\n",
        "  print(\"En\", cantidad, \"su impuesto es de: \", im4)\n",
        "\n",
        "elif cantidad >=3000.01 and cantidad <= 8000:\n",
        "  print(\"En\", cantidad, \"su impuesto es de: \", im5)\n",
        "\n",
        "elif cantidad >=8000.01 and cantidad <= 18000:\n",
        "  print(\"En\", cantidad, \"su impuesto es de: \", im6)\n",
        "\n",
        "elif cantidad >=18000.01 and cantidad <= 30000:\n",
        "  print(\"En\", cantidad, \"su impuesto es de: \", im7)\n",
        "\n",
        "elif cantidad >=30000.01 and cantidad <= 60000:\n",
        "  print(\"En\", cantidad, \"su impuesto es de: \", im8)\n",
        "\n",
        "elif cantidad >=60000.01 and cantidad <= 100000:\n",
        "  print(\"En\", cantidad, \"su impuesto es de: \", im9)\n",
        "\n",
        "elif cantidad >=100000.01 and cantidad <= 200000:\n",
        "  print(\"En\", cantidad, \"su impuesto es de: \", im10)\n",
        "\n",
        "elif cantidad >=200000.01 and cantidad <= 300000:\n",
        "  print(\"En\", cantidad, \"su impuesto es de: \", im11)\n",
        "\n",
        "elif cantidad >=300000.01 and cantidad <= 400000:\n",
        "  print(\"En\", cantidad, \"su impuesto es de: \", im12)\n",
        "\n",
        "elif cantidad >=400000.01 and cantidad <= 500000:\n",
        "  print(\"En\", cantidad, \"su impuesto es de: \", im13)\n",
        "\n",
        "elif cantidad >=500000.01 and cantidad <= 1000000:\n",
        "  print(\"En\", cantidad, \"su impuesto es de: \", im14)\n",
        "\n",
        "elif cantidad >=1000000.01 and cantidad <= 99999999:\n",
        "  print(\"En\", cantidad, \"su impuesto es de: \", im15)"
      ],
      "metadata": {
        "colab": {
          "base_uri": "https://localhost:8080/"
        },
        "id": "vd2IYFiWUnf5",
        "outputId": "f47f636b-4aec-467e-d0e1-e4c65feb373d"
      },
      "execution_count": null,
      "outputs": [
        {
          "output_type": "stream",
          "name": "stdout",
          "text": [
            "En 350000.0 su impuesto es de:  277.4999955\n"
          ]
        }
      ]
    },
    {
      "cell_type": "markdown",
      "source": [
        "# **EJERCICIO 3**"
      ],
      "metadata": {
        "id": "hVmisRPRqwMM"
      }
    },
    {
      "cell_type": "code",
      "source": [
        "def pies_metros():\n",
        "  pies = int(input(\"INGRESE LA CANTIDAD DE PIES CUADRADOS QUE DESEA CONVERTIR A METROS CUADRADOS \"))\n",
        "  metros = pies / 10.764\n",
        "  print(pies,\"PIES CUADRADOS EQUIVALEN A \", metros, \"METROS CUADRADOS\")\n",
        "\n",
        "\n",
        "def metros_hectareas ():\n",
        "  metros = int(input(\"INGRESE LA CANTIDAD DE METROS CUADRADOS QUE DESEA CONVERTIR A HECTAREAS \"))\n",
        "  hectareas = metros / 10000\n",
        "  print(metros, \"METROS CUADRADOS EQUIVALEN A \", hectareas, \"HECTAREAS\")\n",
        "\n",
        "\n",
        "def metros_pies():\n",
        "  metros = int(input(\"INGRESE LA CANTIDAD DE METROS CUADRADOS QUE DESEA CONVERTIR A PIES \"))\n",
        "  pies = metros * 10.764\n",
        "  print(metros, \"METROS CUADRADOS EQUIVALEN A \", pies, \"PIES CUADRADOS\")\n",
        "\n",
        "\n",
        "def yardas_pies():\n",
        "  yardas = int(input(\"INGRESE LA CANTIDAD DE YARDAS CUADRADAS QUE DESEA CONVERTIR A PIES \"))\n",
        "  pies = yardas * 9\n",
        "  print(yardas, \"YARDAS CUADRADAS EQUIVALEN A \", pies, \"PIES CUADRADOS\")\n",
        "\n",
        "\n",
        "def hectareas_yardas():\n",
        "  hectareas = int(input(\"INGRESE LA CANTIDAD DE HECTAREAS QUE DESEA CONVERTIR A YARDAS \"))\n",
        "  yardas = hectareas * 11960\n",
        "  print(hectareas, \"HECTAREAS EQUIVALEN A \", yardas, \"YARDAS CUADRADAS\")\n",
        "\n",
        "\n",
        "def manzanas_varas():\n",
        "  manzanas = int(input(\"INGRESE LA CANTIDAD DE MANZANAS QUE DESEA CONVERTIR A VARAS \"))\n",
        "  varas = manzanas * 0.84\n",
        "  print(manzanas, \"MANZANAS EQUIVALEN A \", varas, \"VARAS CUADRADAS\")\n",
        "\n",
        "\n",
        "def tarea_metro():\n",
        "  tarea = int(input(\"INGRESE LA CANTIDAD DE TAREAS QUE DESEA CONVERTIR A METROS CUADRADOS \"))\n",
        "  metro = tarea * 628.86\n",
        "  print(tarea, \"TAREAS EQUIVALEN A \", metro, \"METROS CUADRADOS\")\n",
        "\n",
        "\n",
        "def metros_varas():\n",
        "  metros = int(input(\"INGRESE LA CANTIDAD DE METROS CUADRADOS QUE DESEA CONVERTIR A VARAS \"))\n",
        "  varas = metros / 0.7\n",
        "  print(metros, \"METROS CUADRADOS A\", varas, \"VARAS CUADRADAS\")\n",
        "\n",
        "\n",
        "def tarea_hectarea ():\n",
        "  tarea = int(input(\"INGRESE LA CANTIDAD DE TAREAS QUE DESEA CONVERTIR A HECTAREAS \"))\n",
        "  hectareas = tarea * 0.06288\n",
        "  print(tarea,\"TAREAS EQUIVALEN A \", hectareas, \"HECTAREAS\")\n",
        "\n",
        "\n",
        "def tarea_manzana ():\n",
        "  tarea = int(input(\"INGRESE LA CANTIDAD DE TAREAS QUE DESEA CONVERTIR A MANZANAS \"))\n",
        "  manzana= tarea * 0.06288\n",
        "  print (tarea,\"TAREAS EQUIVALEN A \", manzana, \"MANZANAS\")\n",
        "\n",
        "\n",
        "opcion = int( input(\"\\n*MENU*\\n\\n\"\n",
        "                    \"1. Pies Cuadrados a Metros Cuadrados \\n\"\n",
        "                    \"2. Metros Cuadrados a Hectareas \\n\"\n",
        "                    \"3. Metros Cuadrados a Pies Cuadrados \\n\"\n",
        "                    \"4. Yardas Cuadradas a Pies Cuadrados \\n\"\n",
        "                    \"5. Hectareas a Yardas Cuadradas \\n\"\n",
        "                    \"6. Manzanas a Varas Cuadradas \\n\"\n",
        "                    \"7. Tareas a Metros Cuadrados \\n\"\n",
        "                    \"8. Metros Cuadrados a Varas Cuadradas \\n\"\n",
        "                    \"9. Tareas a Hectareas \\n\"\n",
        "                    \"10. Tareas a Manzanas \\n\"\n",
        "                    \"Ingrese al opcion que desea \\n\\n\"))\n",
        "\n",
        "Diccionario = {1:pies_metros,\n",
        "               2:metros_hectareas,\n",
        "               3:metros_pies,\n",
        "               4:yardas_pies,\n",
        "               5:hectareas_yardas,\n",
        "               6:manzanas_varas,\n",
        "               7:tarea_metro,\n",
        "               8:metros_varas,\n",
        "               9:tarea_hectarea,\n",
        "               10:tarea_manzana}\n",
        "\n",
        "try:\n",
        "  Diccionario[opcion]()\n",
        "except:\n",
        "  print(\"No ha elegido una opcion valida. \")"
      ],
      "metadata": {
        "id": "F-A2kvpyqzyc"
      },
      "execution_count": null,
      "outputs": []
    },
    {
      "cell_type": "markdown",
      "source": [
        "# **EJERCICIO 4**"
      ],
      "metadata": {
        "id": "3uNKynwYgFcO"
      }
    },
    {
      "cell_type": "code",
      "source": [
        "nombre = input(\"Cual es tu nombre: \")\n",
        "print(\"Bienvenido al sistema \",nombre)\n",
        "\n",
        "print(\"------------------------\")\n",
        "s = \"s\"\n",
        "while s == \"s\":\n",
        "  cantidad = float(input(\"ingrese cantidad a retirar: \"))\n",
        "  # Validamos si la cantidad ingresada es mayor a 0 que comience a mostrar los resultados\n",
        "  if cantidad>=0:\n",
        "    print(\"Sus \",cantidad,\" En los diferentes Billetes y Monedas americanos son \")\n",
        "\n",
        "    # Calculo de muestra de billetes de a $20 \n",
        "    if cantidad>=20:\n",
        "      Billete20 = int(cantidad // 20)\n",
        "      resto20 = cantidad % 20\n",
        "      print(Billete20,\" billetes de $20 dolares\") # Salida de resultado\n",
        "\n",
        "    # Calculo de muestra de billetes de a $10\n",
        "    if cantidad>=10:\n",
        "      Billete10 = int(resto20 // 10)\n",
        "      resto10 = resto20 % 10\n",
        "      print(Billete10,\" billetes de $10 dolares\") # Salida de resultado\n",
        "\n",
        "    # Calculo de muestra de billetes de a $5\n",
        "    if cantidad>=5:\n",
        "      Billete5 = int(resto10 // 5)\n",
        "      resto5 = resto10 % 5\n",
        "      print(Billete5,\" billetes de $5 dolares\") # Salida de resultado\n",
        "\n",
        "    # Calculo de muestra de billetes de a $1\n",
        "    if cantidad>=1:\n",
        "      Billete1 = int(resto5 // 1)\n",
        "      resto1 = resto5 % 1\n",
        "      print(Billete1,\" billetes de $1 dolar\") # Salida de resultado\n",
        "\n",
        "    # calculo de muestra de monedas de a $0.25\n",
        "    if cantidad>=0.25:\n",
        "      Moneda025 = int(resto1 // 0.25)\n",
        "      resto025 = resto1 % 0.25\n",
        "      print(Moneda025,\" monedas de $0.25 ctvs\") # Salida de resultado\n",
        "\n",
        "    # Calculo de muestra de monedas de a $0.10\n",
        "    if cantidad>=0.10:\n",
        "      Moneda010 = int(resto025 // 0.10)\n",
        "      resto010 = resto025 % 0.10\n",
        "      print(Moneda010,\" monedas de $0.10 ctvs\") # Salida de resultado\n",
        "\n",
        "    # Calculo de muestra de monedas de a $0.01\n",
        "    if cantidad>=0.01:\n",
        "      Moneda001 = int(resto010 // 0.01)\n",
        "      resto001 = resto010 % 0.01\n",
        "      print(Moneda001,\" monedas de $0.01 ctvs\") # Salida de resultado\n",
        "\n",
        "  # Si la cantidad es diferente a numeros que nos muestre lo siguiente\n",
        "  else:\n",
        "    print(\"Cantidad no existente!\")\n",
        "\n",
        "  print(\"------------------------\")\n",
        "  s = input(\"Ingrese la letra s si desea continuar, sino ingrese otra\")\n",
        "  print(\"------------------------\")"
      ],
      "metadata": {
        "id": "hUz_XvUylszw"
      },
      "execution_count": null,
      "outputs": []
    }
  ],
  "metadata": {
    "colab": {
      "collapsed_sections": [],
      "name": "Te damos la bienvenida a Colaboratory",
      "provenance": [],
      "include_colab_link": true
    },
    "kernelspec": {
      "display_name": "Python 3",
      "name": "python3"
    }
  },
  "nbformat": 4,
  "nbformat_minor": 0
}