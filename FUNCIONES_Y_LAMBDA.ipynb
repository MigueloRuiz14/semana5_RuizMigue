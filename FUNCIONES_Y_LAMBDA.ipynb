{
  "cells": [
    {
      "cell_type": "markdown",
      "metadata": {
        "id": "view-in-github",
        "colab_type": "text"
      },
      "source": [
        "<a href=\"https://colab.research.google.com/github/MigueloRuiz14/semana5_RuizMigue/blob/master/FUNCIONES_Y_LAMBDA.ipynb\" target=\"_parent\"><img src=\"https://colab.research.google.com/assets/colab-badge.svg\" alt=\"Open In Colab\"/></a>"
      ]
    },
    {
      "cell_type": "code",
      "source": [
        "#EJERCICIO DE NOTAS USANDO FUNCIONES"
      ],
      "metadata": {
        "id": "n9uZQbmqSASL"
      },
      "execution_count": null,
      "outputs": []
    },
    {
      "cell_type": "code",
      "source": [
        "#CÓMPUTO 1"
      ],
      "metadata": {
        "id": "Ag7R-CXcSIRN"
      },
      "execution_count": null,
      "outputs": []
    },
    {
      "cell_type": "code",
      "source": [
        "def NotaC1(no1,no2,no3):\n",
        "  return no1*0.30+no2*0.30+no3*0.40"
      ],
      "metadata": {
        "id": "5QgIfDPIR6ju"
      },
      "execution_count": null,
      "outputs": []
    },
    {
      "cell_type": "code",
      "source": [
        "no1 = float (input(\"Ingrese nota de laboratorio 1: \"))\n",
        "no2 = float (input(\"Ingrese nota de laboratorio 2: \"))\n",
        "no3 = float (input(\"Ingrese nota del Parcial: \"))"
      ],
      "metadata": {
        "id": "YCl7H_acSVzZ"
      },
      "execution_count": null,
      "outputs": []
    },
    {
      "cell_type": "code",
      "source": [
        "notaC1 = NotaC1(no1,no2,no3)"
      ],
      "metadata": {
        "id": "_mF3_2JUSlry"
      },
      "execution_count": null,
      "outputs": []
    },
    {
      "cell_type": "code",
      "source": [
        "print(\"LA NOTA DEL CÓMPUTO 1 ES: \", notaC1)"
      ],
      "metadata": {
        "id": "b5sbNttwStJ1"
      },
      "execution_count": null,
      "outputs": []
    },
    {
      "cell_type": "code",
      "source": [
        "#CÓMPUTO 2"
      ],
      "metadata": {
        "id": "8nHFRCIoTl8j"
      },
      "execution_count": null,
      "outputs": []
    },
    {
      "cell_type": "code",
      "source": [
        "def NotaC2(not1,not2,not3):\n",
        "  return not1*0.30+not2*0.30+not3*0.40"
      ],
      "metadata": {
        "id": "dyoVbcV4TpOo"
      },
      "execution_count": null,
      "outputs": []
    },
    {
      "cell_type": "code",
      "source": [
        "not1 = float (input(\"Ingrese nota de laboratorio 1: \"))\n",
        "not2 = float (input(\"Ingrese nota de laboratorio 2: \"))\n",
        "not3 = float (input(\"Ingrese nota del Parcial: \"))"
      ],
      "metadata": {
        "id": "inLxtnteTrvf"
      },
      "execution_count": null,
      "outputs": []
    },
    {
      "cell_type": "code",
      "source": [
        "notaC2 = NotaC2(not1,not2,not3)"
      ],
      "metadata": {
        "id": "gAVa55a1TuXP"
      },
      "execution_count": null,
      "outputs": []
    },
    {
      "cell_type": "code",
      "source": [
        "print(\"LA NOTA DEL CÓMPUTO 2 ES: \", notaC2)"
      ],
      "metadata": {
        "id": "4uXwsgVATwpS"
      },
      "execution_count": null,
      "outputs": []
    },
    {
      "cell_type": "code",
      "source": [
        "#CÓMPUTO 3"
      ],
      "metadata": {
        "id": "M51MPn0MUA9B"
      },
      "execution_count": null,
      "outputs": []
    },
    {
      "cell_type": "code",
      "source": [
        "def NotaC3(n1,n2,n3):\n",
        "  return n1*0.30+n2*0.30+n3*0.40"
      ],
      "metadata": {
        "id": "QtD-9ayaUDsK"
      },
      "execution_count": null,
      "outputs": []
    },
    {
      "cell_type": "code",
      "source": [
        "n1 = float (input(\"Ingrese nota de laboratorio 1: \"))\n",
        "n2 = float (input(\"Ingrese nota de laboratorio 2: \"))\n",
        "n3 = float (input(\"Ingrese nota del Parcial: \"))"
      ],
      "metadata": {
        "id": "z9RjdibNUFa7"
      },
      "execution_count": null,
      "outputs": []
    },
    {
      "cell_type": "code",
      "source": [
        "notaC3 = NotaC3(n1,n2,n3)"
      ],
      "metadata": {
        "id": "AueWDGXfUH3M"
      },
      "execution_count": null,
      "outputs": []
    },
    {
      "cell_type": "code",
      "source": [
        "print(\"LA NOTA DEL CÓMPUTO 3 ES: \", notaC3)"
      ],
      "metadata": {
        "id": "HlCH1ksPUJ-B"
      },
      "execution_count": null,
      "outputs": []
    },
    {
      "cell_type": "code",
      "source": [
        "#NOTA DE CICLO"
      ],
      "metadata": {
        "id": "zuYptTYPUX3R"
      },
      "execution_count": null,
      "outputs": []
    },
    {
      "cell_type": "code",
      "source": [
        "def NotaFinal(notaC1,notaC2,notaC3):\n",
        "  return (notaC1 + notaC2 + notaC3)/3"
      ],
      "metadata": {
        "id": "-ZSTXhS0UbPY"
      },
      "execution_count": null,
      "outputs": []
    },
    {
      "cell_type": "code",
      "source": [
        "Final = NotaFinal(notaC1,notaC2,notaC3)"
      ],
      "metadata": {
        "id": "lu5fe8VbUtAq"
      },
      "execution_count": null,
      "outputs": []
    },
    {
      "cell_type": "code",
      "source": [
        "print(\"LA NOTA FINAL ES: \", Final)"
      ],
      "metadata": {
        "id": "WnLbxbkQU6QK",
        "colab": {
          "base_uri": "https://localhost:8080/"
        },
        "outputId": "a0c6553b-0474-4c44-a623-518a8301b026"
      },
      "execution_count": null,
      "outputs": [
        {
          "output_type": "stream",
          "name": "stdout",
          "text": [
            "LA NOTA FINAL ES:  9.0\n"
          ]
        }
      ]
    },
    {
      "cell_type": "code",
      "source": [
        "#EJERCICIO DE NOTAS USANDO LAMBDA"
      ],
      "metadata": {
        "id": "fNtb9g-4Vopj"
      },
      "execution_count": null,
      "outputs": []
    },
    {
      "cell_type": "code",
      "source": [
        "#CÓMPUTO 1"
      ],
      "metadata": {
        "id": "-WPJ-S5nVrTo"
      },
      "execution_count": null,
      "outputs": []
    },
    {
      "cell_type": "code",
      "source": [
        "NotaC1 = lambda no1,no2,no3: no1*0.30+no2*0.30+no3*0.40"
      ],
      "metadata": {
        "id": "e9HyJEqNVurr"
      },
      "execution_count": null,
      "outputs": []
    },
    {
      "cell_type": "code",
      "source": [
        "print(\"LA NOTA DEL CÓMPUTO 1 ES: \", NotaC1(no1,no2,no3))"
      ],
      "metadata": {
        "id": "Y4CS9H0JVzPa",
        "colab": {
          "base_uri": "https://localhost:8080/"
        },
        "outputId": "7cc24d6a-66ec-4e66-de6c-0c06786f9631"
      },
      "execution_count": null,
      "outputs": [
        {
          "output_type": "stream",
          "name": "stdout",
          "text": [
            "LA NOTA DEL CÓMPUTO 1 ES:  10.0\n"
          ]
        }
      ]
    },
    {
      "cell_type": "code",
      "source": [
        "#CÓMPUTO 2"
      ],
      "metadata": {
        "id": "Xvjptw29WfMw"
      },
      "execution_count": null,
      "outputs": []
    },
    {
      "cell_type": "code",
      "source": [
        "NotaC2 = lambda not1,not2,not3 : not1*0.30+not2*0.30+not3*0.40"
      ],
      "metadata": {
        "id": "ck4OdxQjWXsf"
      },
      "execution_count": null,
      "outputs": []
    },
    {
      "cell_type": "code",
      "source": [
        "print(\"LA NOTA DEL CÓMPUTO 2 ES: \", NotaC2(not1,not2,not3))"
      ],
      "metadata": {
        "id": "x-L2MUNPWdL6",
        "colab": {
          "base_uri": "https://localhost:8080/"
        },
        "outputId": "fbacd020-6df3-4606-c2c1-ce930628f340"
      },
      "execution_count": null,
      "outputs": [
        {
          "output_type": "stream",
          "name": "stdout",
          "text": [
            "LA NOTA DEL CÓMPUTO 2 ES:  9.0\n"
          ]
        }
      ]
    },
    {
      "cell_type": "code",
      "source": [
        "#CÓMPUTO 3"
      ],
      "metadata": {
        "id": "YOjtxqDPWtk3"
      },
      "execution_count": null,
      "outputs": []
    },
    {
      "cell_type": "code",
      "source": [
        "NotaC3 = lambda n1,n2,n3 : n1*0.30+n2*0.30+n3*0.40"
      ],
      "metadata": {
        "id": "FfinDh9lWv6i"
      },
      "execution_count": null,
      "outputs": []
    },
    {
      "cell_type": "code",
      "source": [
        "print(\"LA NOTA DEL CÓMPUTO 3 ES: \", NotaC3(n1,n2,n3))"
      ],
      "metadata": {
        "id": "CJlka0okWym_",
        "colab": {
          "base_uri": "https://localhost:8080/"
        },
        "outputId": "b6f76878-fa10-4d6d-f763-69f201883ef9"
      },
      "execution_count": null,
      "outputs": [
        {
          "output_type": "stream",
          "name": "stdout",
          "text": [
            "LA NOTA DEL CÓMPUTO 3 ES:  8.0\n"
          ]
        }
      ]
    },
    {
      "cell_type": "code",
      "source": [
        "#NOTA DE CICLO"
      ],
      "metadata": {
        "id": "6A3MBSgRXD_G"
      },
      "execution_count": null,
      "outputs": []
    },
    {
      "cell_type": "code",
      "source": [
        "NotaFinal = lambda notaC1, notaC2, notaC3: (notaC1 + notaC2 + notaC3)/3"
      ],
      "metadata": {
        "id": "H47KZx2WXI-Q"
      },
      "execution_count": null,
      "outputs": []
    },
    {
      "cell_type": "code",
      "source": [
        "print(\"LA NOTA FINAL ES: \", NotaFinal(notaC1, notaC2, notaC3))"
      ],
      "metadata": {
        "id": "ousp0d7XXlTN",
        "colab": {
          "base_uri": "https://localhost:8080/"
        },
        "outputId": "8d776ff6-a6bb-4bc5-d28d-d49c294ab7c7"
      },
      "execution_count": null,
      "outputs": [
        {
          "output_type": "stream",
          "name": "stdout",
          "text": [
            "LA NOTA FINAL ES:  9.0\n"
          ]
        }
      ]
    },
    {
      "cell_type": "markdown",
      "source": [
        "# **Semana 7**"
      ],
      "metadata": {
        "id": "UTwBYjAJ0xB4"
      }
    },
    {
      "cell_type": "code",
      "source": [
        "#POO\n",
        "\n",
        "class deducciones:\n",
        "  def __init__(self, sueldo, porcentajeISSS, porcentajeAFP, tablaIsr):\n",
        "   self.sueldo = sueldo\n",
        "   self.porcentajeISSS = porcentajeISSS\n",
        "   self.porcentajeAFP = porcentajeAFP\n",
        "   self.tablaIsr = tablaIsr\n",
        "\n",
        "  def CalcularISSS(self):\n",
        "    return self.sueldo * self.porcentajeISSS/100\n",
        "\n",
        "  def CalcularAFP(self):\n",
        "    return self.sueldo * self.porcentajeAFP/100\n",
        "\n",
        "  def CalcularIsr(self):\n",
        "    self.sueldoNeto = self.sueldo - (self.CalcularISSS() + self.CalcularAFP())\n",
        "\n",
        "    isr = 0\n",
        "    for tramo in self.tablaIsr:\n",
        "      \n",
        "      if self.sueldoNeto >= tramo[0] and self.sueldoNeto <= tramo[1]:\n",
        "        isr = (self.sueldoNeto - tramo[0]) * tramo[2] + tramo[3]\n",
        "    return isr"
      ],
      "metadata": {
        "id": "qR-BLljl04Cr"
      },
      "execution_count": 47,
      "outputs": []
    },
    {
      "cell_type": "code",
      "source": [
        "porcentajeISSSE = 7.5\n",
        "porcentajeAFPE =7.75\n"
      ],
      "metadata": {
        "id": "Qmc2bwvt8aR9"
      },
      "execution_count": 48,
      "outputs": []
    },
    {
      "cell_type": "code",
      "source": [
        "porcentajeISSSP = 3\n",
        "porcentajeAFPP = 6.25\n",
        "\n",
        "tablaIsrP = [\n",
        "    [0.01,    472,     0,     0],            #TRAMO1\n",
        "    [472.01,  895.24,  0.1,   17.67],        #TRAMO2\n",
        "    [895.25,  2038.10, 0.2,   60],           #TRAMO3\n",
        "    [2038.11, 99999,   0.3,   288.57]        #TRAMO4\n",
        "    ]"
      ],
      "metadata": {
        "id": "boUmezMy87yl"
      },
      "execution_count": 49,
      "outputs": []
    },
    {
      "cell_type": "code",
      "source": [
        "sueldo = float(input(\"Ingrese un sueldo: \"))\n",
        "dp = deducciones(sueldo, porcentajeISSSP, porcentajeAFPP, tablaIsrP)\n",
        "de = deducciones(sueldo, porcentajeISSSE, porcentajeAFPE)\n",
        "\n",
        "print(\"ISSS personas : \", dp.CalcularISSS(), \"ISSS empresa: \", de.CalcularISSS(), \"ISR persona\", dp.CalcularIsr())\n",
        "print(\"AFP personas : \", dp.CalcularAFP(), \"AFP empresa: \", de.CalcularAFP())"
      ],
      "metadata": {
        "id": "jPC5lGnW55xE"
      },
      "execution_count": null,
      "outputs": []
    }
  ],
  "metadata": {
    "colab": {
      "collapsed_sections": [],
      "toc_visible": true,
      "provenance": [],
      "include_colab_link": true
    },
    "kernelspec": {
      "display_name": "Python 3",
      "name": "python3"
    }
  },
  "nbformat": 4,
  "nbformat_minor": 0
}