{
  "cells": [
    {
      "cell_type": "markdown",
      "metadata": {
        "id": "view-in-github",
        "colab_type": "text"
      },
      "source": [
        "<a href=\"https://colab.research.google.com/github/MigueloRuiz14/semana5_RuizMigue/blob/master/FUNCIONES_Y_LAMBDA.ipynb\" target=\"_parent\"><img src=\"https://colab.research.google.com/assets/colab-badge.svg\" alt=\"Open In Colab\"/></a>"
      ]
    },
    {
      "cell_type": "code",
      "source": [
        "#EJERCICIO DE NOTAS USANDO FUNCIONES"
      ],
      "metadata": {
        "id": "n9uZQbmqSASL"
      },
      "execution_count": null,
      "outputs": []
    },
    {
      "cell_type": "code",
      "source": [
        "#CÓMPUTO 1"
      ],
      "metadata": {
        "id": "Ag7R-CXcSIRN"
      },
      "execution_count": null,
      "outputs": []
    },
    {
      "cell_type": "code",
      "source": [
        "def NotaC1(no1,no2,no3):\n",
        "  return no1*0.30+no2*0.30+no3*0.40"
      ],
      "metadata": {
        "id": "5QgIfDPIR6ju"
      },
      "execution_count": null,
      "outputs": []
    },
    {
      "cell_type": "code",
      "source": [
        "no1 = float (input(\"Ingrese nota de laboratorio 1: \"))\n",
        "no2 = float (input(\"Ingrese nota de laboratorio 2: \"))\n",
        "no3 = float (input(\"Ingrese nota del Parcial: \"))"
      ],
      "metadata": {
        "id": "YCl7H_acSVzZ"
      },
      "execution_count": null,
      "outputs": []
    },
    {
      "cell_type": "code",
      "source": [
        "notaC1 = NotaC1(no1,no2,no3)"
      ],
      "metadata": {
        "id": "_mF3_2JUSlry"
      },
      "execution_count": null,
      "outputs": []
    },
    {
      "cell_type": "code",
      "source": [
        "print(\"LA NOTA DEL CÓMPUTO 1 ES: \", notaC1)"
      ],
      "metadata": {
        "id": "b5sbNttwStJ1"
      },
      "execution_count": null,
      "outputs": []
    },
    {
      "cell_type": "code",
      "source": [
        "#CÓMPUTO 2"
      ],
      "metadata": {
        "id": "8nHFRCIoTl8j"
      },
      "execution_count": null,
      "outputs": []
    },
    {
      "cell_type": "code",
      "source": [
        "def NotaC2(not1,not2,not3):\n",
        "  return not1*0.30+not2*0.30+not3*0.40"
      ],
      "metadata": {
        "id": "dyoVbcV4TpOo"
      },
      "execution_count": null,
      "outputs": []
    },
    {
      "cell_type": "code",
      "source": [
        "not1 = float (input(\"Ingrese nota de laboratorio 1: \"))\n",
        "not2 = float (input(\"Ingrese nota de laboratorio 2: \"))\n",
        "not3 = float (input(\"Ingrese nota del Parcial: \"))"
      ],
      "metadata": {
        "id": "inLxtnteTrvf"
      },
      "execution_count": null,
      "outputs": []
    },
    {
      "cell_type": "code",
      "source": [
        "notaC2 = NotaC2(not1,not2,not3)"
      ],
      "metadata": {
        "id": "gAVa55a1TuXP"
      },
      "execution_count": null,
      "outputs": []
    },
    {
      "cell_type": "code",
      "source": [
        "print(\"LA NOTA DEL CÓMPUTO 2 ES: \", notaC2)"
      ],
      "metadata": {
        "id": "4uXwsgVATwpS"
      },
      "execution_count": null,
      "outputs": []
    },
    {
      "cell_type": "code",
      "source": [
        "#CÓMPUTO 3"
      ],
      "metadata": {
        "id": "M51MPn0MUA9B"
      },
      "execution_count": null,
      "outputs": []
    },
    {
      "cell_type": "code",
      "source": [
        "def NotaC3(n1,n2,n3):\n",
        "  return n1*0.30+n2*0.30+n3*0.40"
      ],
      "metadata": {
        "id": "QtD-9ayaUDsK"
      },
      "execution_count": null,
      "outputs": []
    },
    {
      "cell_type": "code",
      "source": [
        "n1 = float (input(\"Ingrese nota de laboratorio 1: \"))\n",
        "n2 = float (input(\"Ingrese nota de laboratorio 2: \"))\n",
        "n3 = float (input(\"Ingrese nota del Parcial: \"))"
      ],
      "metadata": {
        "id": "z9RjdibNUFa7"
      },
      "execution_count": null,
      "outputs": []
    },
    {
      "cell_type": "code",
      "source": [
        "notaC3 = NotaC3(n1,n2,n3)"
      ],
      "metadata": {
        "id": "AueWDGXfUH3M"
      },
      "execution_count": null,
      "outputs": []
    },
    {
      "cell_type": "code",
      "source": [
        "print(\"LA NOTA DEL CÓMPUTO 3 ES: \", notaC3)"
      ],
      "metadata": {
        "id": "HlCH1ksPUJ-B"
      },
      "execution_count": null,
      "outputs": []
    },
    {
      "cell_type": "code",
      "source": [
        "#NOTA DE CICLO"
      ],
      "metadata": {
        "id": "zuYptTYPUX3R"
      },
      "execution_count": null,
      "outputs": []
    },
    {
      "cell_type": "code",
      "source": [
        "def NotaFinal(notaC1,notaC2,notaC3):\n",
        "  return (notaC1 + notaC2 + notaC3)/3"
      ],
      "metadata": {
        "id": "-ZSTXhS0UbPY"
      },
      "execution_count": null,
      "outputs": []
    },
    {
      "cell_type": "code",
      "source": [
        "Final = NotaFinal(notaC1,notaC2,notaC3)"
      ],
      "metadata": {
        "id": "lu5fe8VbUtAq"
      },
      "execution_count": null,
      "outputs": []
    },
    {
      "cell_type": "code",
      "source": [
        "print(\"LA NOTA FINAL ES: \", Final)"
      ],
      "metadata": {
        "id": "WnLbxbkQU6QK",
        "colab": {
          "base_uri": "https://localhost:8080/"
        },
        "outputId": "a0c6553b-0474-4c44-a623-518a8301b026"
      },
      "execution_count": null,
      "outputs": [
        {
          "output_type": "stream",
          "name": "stdout",
          "text": [
            "LA NOTA FINAL ES:  9.0\n"
          ]
        }
      ]
    },
    {
      "cell_type": "code",
      "source": [
        "#EJERCICIO DE NOTAS USANDO LAMBDA"
      ],
      "metadata": {
        "id": "fNtb9g-4Vopj"
      },
      "execution_count": null,
      "outputs": []
    },
    {
      "cell_type": "code",
      "source": [
        "#CÓMPUTO 1"
      ],
      "metadata": {
        "id": "-WPJ-S5nVrTo"
      },
      "execution_count": null,
      "outputs": []
    },
    {
      "cell_type": "code",
      "source": [
        "NotaC1 = lambda no1,no2,no3: no1*0.30+no2*0.30+no3*0.40"
      ],
      "metadata": {
        "id": "e9HyJEqNVurr"
      },
      "execution_count": null,
      "outputs": []
    },
    {
      "cell_type": "code",
      "source": [
        "print(\"LA NOTA DEL CÓMPUTO 1 ES: \", NotaC1(no1,no2,no3))"
      ],
      "metadata": {
        "id": "Y4CS9H0JVzPa",
        "colab": {
          "base_uri": "https://localhost:8080/"
        },
        "outputId": "7cc24d6a-66ec-4e66-de6c-0c06786f9631"
      },
      "execution_count": null,
      "outputs": [
        {
          "output_type": "stream",
          "name": "stdout",
          "text": [
            "LA NOTA DEL CÓMPUTO 1 ES:  10.0\n"
          ]
        }
      ]
    },
    {
      "cell_type": "code",
      "source": [
        "#CÓMPUTO 2"
      ],
      "metadata": {
        "id": "Xvjptw29WfMw"
      },
      "execution_count": null,
      "outputs": []
    },
    {
      "cell_type": "code",
      "source": [
        "NotaC2 = lambda not1,not2,not3 : not1*0.30+not2*0.30+not3*0.40"
      ],
      "metadata": {
        "id": "ck4OdxQjWXsf"
      },
      "execution_count": null,
      "outputs": []
    },
    {
      "cell_type": "code",
      "source": [
        "print(\"LA NOTA DEL CÓMPUTO 2 ES: \", NotaC2(not1,not2,not3))"
      ],
      "metadata": {
        "id": "x-L2MUNPWdL6",
        "colab": {
          "base_uri": "https://localhost:8080/"
        },
        "outputId": "fbacd020-6df3-4606-c2c1-ce930628f340"
      },
      "execution_count": null,
      "outputs": [
        {
          "output_type": "stream",
          "name": "stdout",
          "text": [
            "LA NOTA DEL CÓMPUTO 2 ES:  9.0\n"
          ]
        }
      ]
    },
    {
      "cell_type": "code",
      "source": [
        "#CÓMPUTO 3"
      ],
      "metadata": {
        "id": "YOjtxqDPWtk3"
      },
      "execution_count": null,
      "outputs": []
    },
    {
      "cell_type": "code",
      "source": [
        "NotaC3 = lambda n1,n2,n3 : n1*0.30+n2*0.30+n3*0.40"
      ],
      "metadata": {
        "id": "FfinDh9lWv6i"
      },
      "execution_count": null,
      "outputs": []
    },
    {
      "cell_type": "code",
      "source": [
        "print(\"LA NOTA DEL CÓMPUTO 3 ES: \", NotaC3(n1,n2,n3))"
      ],
      "metadata": {
        "id": "CJlka0okWym_",
        "colab": {
          "base_uri": "https://localhost:8080/"
        },
        "outputId": "b6f76878-fa10-4d6d-f763-69f201883ef9"
      },
      "execution_count": null,
      "outputs": [
        {
          "output_type": "stream",
          "name": "stdout",
          "text": [
            "LA NOTA DEL CÓMPUTO 3 ES:  8.0\n"
          ]
        }
      ]
    },
    {
      "cell_type": "code",
      "source": [
        "#NOTA DE CICLO"
      ],
      "metadata": {
        "id": "6A3MBSgRXD_G"
      },
      "execution_count": null,
      "outputs": []
    },
    {
      "cell_type": "code",
      "source": [
        "NotaFinal = lambda notaC1, notaC2, notaC3: (notaC1 + notaC2 + notaC3)/3"
      ],
      "metadata": {
        "id": "H47KZx2WXI-Q"
      },
      "execution_count": null,
      "outputs": []
    },
    {
      "cell_type": "code",
      "source": [
        "print(\"LA NOTA FINAL ES: \", NotaFinal(notaC1, notaC2, notaC3))"
      ],
      "metadata": {
        "id": "ousp0d7XXlTN",
        "colab": {
          "base_uri": "https://localhost:8080/"
        },
        "outputId": "8d776ff6-a6bb-4bc5-d28d-d49c294ab7c7"
      },
      "execution_count": null,
      "outputs": [
        {
          "output_type": "stream",
          "name": "stdout",
          "text": [
            "LA NOTA FINAL ES:  9.0\n"
          ]
        }
      ]
    },
    {
      "cell_type": "markdown",
      "source": [
        "# **Semana 7**"
      ],
      "metadata": {
        "id": "UTwBYjAJ0xB4"
      }
    },
    {
      "cell_type": "code",
      "source": [
        "#POO\n",
        "\n",
        "class deducciones:\n",
        "  def __init__(self, sueldo, porcentajeISSS, porcentajeAFP, tablaIsr):\n",
        "   self.sueldo = sueldo\n",
        "   self.porcentajeISSS = porcentajeISSS\n",
        "   self.porcentajeAFP = porcentajeAFP\n",
        "   self.tablaIsr = tablaIsr\n",
        "\n",
        "  def CalcularISSS(self):\n",
        "    return self.sueldo * self.porcentajeISSS/100\n",
        "\n",
        "  def CalcularAFP(self):\n",
        "    return self.sueldo * self.porcentajeAFP/100\n",
        "\n",
        "  def CalcularIsr(self):\n",
        "    self.sueldoNeto = self.sueldo - (self.CalcularISSS() + self.CalcularAFP())\n",
        "\n",
        "    isr = 0\n",
        "    for tramo in self.tablaIsr:\n",
        "      \n",
        "      if self.sueldoNeto >= tramo[0] and self.sueldoNeto <= tramo[1]:\n",
        "        isr = (self.sueldoNeto - tramo[0]) * tramo[2] + tramo[3]\n",
        "    return isr"
      ],
      "metadata": {
        "id": "qR-BLljl04Cr"
      },
      "execution_count": null,
      "outputs": []
    },
    {
      "cell_type": "code",
      "source": [
        "porcentajeISSSE = 7.5\n",
        "porcentajeAFPE =7.75\n"
      ],
      "metadata": {
        "id": "Qmc2bwvt8aR9"
      },
      "execution_count": null,
      "outputs": []
    },
    {
      "cell_type": "code",
      "source": [
        "porcentajeISSSP = 3\n",
        "porcentajeAFPP = 6.25\n",
        "\n",
        "tablaIsrP = [\n",
        "    [0.01,    472,     0,     0],            #TRAMO1\n",
        "    [472.01,  895.24,  0.1,   17.67],        #TRAMO2\n",
        "    [895.25,  2038.10, 0.2,   60],           #TRAMO3\n",
        "    [2038.11, 99999,   0.3,   288.57]        #TRAMO4\n",
        "    ]"
      ],
      "metadata": {
        "id": "boUmezMy87yl"
      },
      "execution_count": null,
      "outputs": []
    },
    {
      "cell_type": "code",
      "source": [
        "sueldo = float(input(\"Ingrese un sueldo: \"))\n",
        "dp = deducciones(sueldo, porcentajeISSSP, porcentajeAFPP, tablaIsrP)\n",
        "de = deducciones(sueldo, porcentajeISSSE, porcentajeAFPE)\n",
        "\n",
        "print(\"ISSS personas : \", dp.CalcularISSS(), \"ISSS empresa: \", de.CalcularISSS(), \"ISR persona\", dp.CalcularIsr())\n",
        "print(\"AFP personas : \", dp.CalcularAFP(), \"AFP empresa: \", de.CalcularAFP())"
      ],
      "metadata": {
        "id": "jPC5lGnW55xE"
      },
      "execution_count": null,
      "outputs": []
    },
    {
      "cell_type": "markdown",
      "source": [
        "# **SEMANA 11**"
      ],
      "metadata": {
        "id": "ZuVBDCB2QTs2"
      }
    },
    {
      "cell_type": "code",
      "source": [
        "import tensorflow as tf\n",
        "import matplotlib.pyplot as plt\n",
        "import numpy as np\n",
        "import math\n",
        "import tensorflow_datasets as tfds\n",
        "import cv2"
      ],
      "metadata": {
        "id": "8PLMnSSIQXTv"
      },
      "execution_count": 105,
      "outputs": []
    },
    {
      "cell_type": "code",
      "source": [
        "dataset, metadata = tfds.load('fashion_mnist', as_supervised=True, with_info=True)\n",
        "datos_entrenamiento, datos_prueba = dataset[\"train\"], dataset[\"test\"]"
      ],
      "metadata": {
        "id": "ptZk6kWGQbsD"
      },
      "execution_count": 106,
      "outputs": []
    },
    {
      "cell_type": "code",
      "source": [
        "for img in datos_entrenamiento.take(1):\n",
        "  print(img)\n",
        "  img = img[0].numpy().reshape(1,28,28,1)\n",
        "  plt.grid(False)\n",
        "  plt.imshow(img[0, ..., 0], cmap=plt.cm.binary)"
      ],
      "metadata": {
        "id": "BxcmT8PzQeTS"
      },
      "execution_count": null,
      "outputs": []
    },
    {
      "cell_type": "code",
      "source": [
        "abrigo = cv2.imread(\"/content/abrigo.jpg\")\n",
        "bolsa = cv2.imread(\"/content/bolsa (1).jpg\")\n",
        "bota = cv2.imread(\"/content/bota.jpg\")\n",
        "camisa = cv2.imread(\"/content/camisa (1).jpg\")\n",
        "camiseta = cv2.imread(\"/content/camiseta.jpg\")\n",
        "pantalon = cv2.imread(\"/content/pantalon (1).jpg\")\n",
        "sandalia = cv2.imread(\"/content/sandalia (1).jpg\")\n",
        "sueter = cv2.imread(\"/content/sueter.jpg\")\n",
        "tenis = cv2.imread(\"/content/tenis (1).jpg\")\n",
        "vestido = cv2.imread(\"/content/vestido.jpg\")\n",
        "print(abrigo, bolsa, bota, camisa, camiseta, pantalon, sandalia, sueter, tenis, vestido)\n",
        "\n"
      ],
      "metadata": {
        "id": "DPQe4d-4aMc1",
        "outputId": "3ea0ab29-30f1-46a8-9a06-1e11f5eb5d21",
        "colab": {
          "base_uri": "https://localhost:8080/"
        }
      },
      "execution_count": 133,
      "outputs": [
        {
          "output_type": "stream",
          "name": "stdout",
          "text": [
            "[[[231 231 237]\n",
            "  [234 234 240]\n",
            "  [235 236 240]\n",
            "  ...\n",
            "  [229 233 238]\n",
            "  [230 233 237]\n",
            "  [230 233 237]]\n",
            "\n",
            " [[233 233 239]\n",
            "  [232 232 238]\n",
            "  [230 231 235]\n",
            "  ...\n",
            "  [230 234 239]\n",
            "  [230 233 237]\n",
            "  [230 233 237]]\n",
            "\n",
            " [[227 230 235]\n",
            "  [236 239 244]\n",
            "  [234 237 241]\n",
            "  ...\n",
            "  [230 234 239]\n",
            "  [230 233 237]\n",
            "  [230 233 237]]\n",
            "\n",
            " ...\n",
            "\n",
            " [[231 234 239]\n",
            "  [213 216 220]\n",
            "  [223 225 226]\n",
            "  ...\n",
            "  [225 231 230]\n",
            "  [190 198 198]\n",
            "  [195 205 205]]\n",
            "\n",
            " [[230 235 238]\n",
            "  [231 234 238]\n",
            "  [235 237 238]\n",
            "  ...\n",
            "  [209 215 214]\n",
            "  [221 229 229]\n",
            "  [232 240 240]]\n",
            "\n",
            " [[230 235 238]\n",
            "  [230 235 238]\n",
            "  [228 230 231]\n",
            "  ...\n",
            "  [231 237 236]\n",
            "  [233 238 239]\n",
            "  [231 239 239]]] [[[239 239 239]\n",
            "  [239 239 239]\n",
            "  [239 239 239]\n",
            "  ...\n",
            "  [239 239 239]\n",
            "  [239 239 239]\n",
            "  [239 239 239]]\n",
            "\n",
            " [[239 239 239]\n",
            "  [239 239 239]\n",
            "  [239 239 239]\n",
            "  ...\n",
            "  [239 239 239]\n",
            "  [239 239 239]\n",
            "  [239 239 239]]\n",
            "\n",
            " [[239 239 239]\n",
            "  [239 239 239]\n",
            "  [239 239 239]\n",
            "  ...\n",
            "  [239 239 239]\n",
            "  [239 239 239]\n",
            "  [239 239 239]]\n",
            "\n",
            " ...\n",
            "\n",
            " [[237 237 237]\n",
            "  [239 239 239]\n",
            "  [244 244 244]\n",
            "  ...\n",
            "  [226 226 226]\n",
            "  [227 227 227]\n",
            "  [228 228 228]]\n",
            "\n",
            " [[238 238 238]\n",
            "  [241 241 241]\n",
            "  [234 234 234]\n",
            "  ...\n",
            "  [224 224 224]\n",
            "  [225 225 225]\n",
            "  [226 226 226]]\n",
            "\n",
            " [[241 241 241]\n",
            "  [237 237 237]\n",
            "  [243 243 243]\n",
            "  ...\n",
            "  [226 226 226]\n",
            "  [228 228 228]\n",
            "  [229 229 229]]] [[[255 255 255]\n",
            "  [255 255 255]\n",
            "  [255 255 255]\n",
            "  ...\n",
            "  [255 255 255]\n",
            "  [252 252 252]\n",
            "  [255 255 255]]\n",
            "\n",
            " [[255 255 255]\n",
            "  [255 255 255]\n",
            "  [255 255 255]\n",
            "  ...\n",
            "  [253 253 253]\n",
            "  [255 255 255]\n",
            "  [255 255 255]]\n",
            "\n",
            " [[255 255 255]\n",
            "  [255 255 255]\n",
            "  [255 255 255]\n",
            "  ...\n",
            "  [181 181 181]\n",
            "  [191 191 191]\n",
            "  [219 219 219]]\n",
            "\n",
            " ...\n",
            "\n",
            " [[243 243 243]\n",
            "  [223 223 223]\n",
            "  [238 238 238]\n",
            "  ...\n",
            "  [253 253 253]\n",
            "  [248 248 248]\n",
            "  [232 232 232]]\n",
            "\n",
            " [[164 164 164]\n",
            "  [144 144 144]\n",
            "  [255 255 255]\n",
            "  ...\n",
            "  [196 196 196]\n",
            "  [199 199 199]\n",
            "  [208 208 208]]\n",
            "\n",
            " [[252 252 252]\n",
            "  [255 255 255]\n",
            "  [164 164 164]\n",
            "  ...\n",
            "  [255 255 255]\n",
            "  [255 255 255]\n",
            "  [252 252 252]]] [[[254 254 254]\n",
            "  [254 254 254]\n",
            "  [255 255 255]\n",
            "  ...\n",
            "  [255 255 255]\n",
            "  [253 253 253]\n",
            "  [255 255 255]]\n",
            "\n",
            " [[255 255 255]\n",
            "  [255 255 255]\n",
            "  [252 252 252]\n",
            "  ...\n",
            "  [251 251 251]\n",
            "  [255 255 255]\n",
            "  [255 255 255]]\n",
            "\n",
            " [[253 253 253]\n",
            "  [253 253 253]\n",
            "  [255 255 255]\n",
            "  ...\n",
            "  [255 255 255]\n",
            "  [255 255 255]\n",
            "  [255 255 255]]\n",
            "\n",
            " ...\n",
            "\n",
            " [[251 253 253]\n",
            "  [253 255 255]\n",
            "  [255 255 255]\n",
            "  ...\n",
            "  [255 255 255]\n",
            "  [255 255 255]\n",
            "  [255 255 255]]\n",
            "\n",
            " [[253 255 255]\n",
            "  [253 255 255]\n",
            "  [253 253 253]\n",
            "  ...\n",
            "  [255 255 255]\n",
            "  [255 255 255]\n",
            "  [255 255 255]]\n",
            "\n",
            " [[250 252 252]\n",
            "  [253 255 255]\n",
            "  [255 255 255]\n",
            "  ...\n",
            "  [255 255 255]\n",
            "  [255 255 255]\n",
            "  [255 255 255]]] [[[245 246 244]\n",
            "  [236 237 235]\n",
            "  [246 247 245]\n",
            "  ...\n",
            "  [244 239 240]\n",
            "  [248 243 244]\n",
            "  [244 239 240]]\n",
            "\n",
            " [[242 243 241]\n",
            "  [243 244 242]\n",
            "  [241 242 240]\n",
            "  ...\n",
            "  [240 235 236]\n",
            "  [245 240 241]\n",
            "  [248 243 244]]\n",
            "\n",
            " [[241 242 240]\n",
            "  [243 244 242]\n",
            "  [246 244 243]\n",
            "  ...\n",
            "  [249 244 245]\n",
            "  [244 239 240]\n",
            "  [244 239 240]]\n",
            "\n",
            " ...\n",
            "\n",
            " [[241 241 241]\n",
            "  [241 241 241]\n",
            "  [242 240 240]\n",
            "  ...\n",
            "  [244 242 241]\n",
            "  [244 242 242]\n",
            "  [243 241 241]]\n",
            "\n",
            " [[241 241 241]\n",
            "  [240 240 240]\n",
            "  [242 240 240]\n",
            "  ...\n",
            "  [244 242 241]\n",
            "  [244 242 242]\n",
            "  [243 241 241]]\n",
            "\n",
            " [[241 241 241]\n",
            "  [240 240 240]\n",
            "  [242 240 240]\n",
            "  ...\n",
            "  [244 242 241]\n",
            "  [244 242 242]\n",
            "  [243 241 241]]] [[[254 254 254]\n",
            "  [254 254 254]\n",
            "  [254 254 254]\n",
            "  ...\n",
            "  [254 254 254]\n",
            "  [254 254 254]\n",
            "  [254 254 254]]\n",
            "\n",
            " [[254 254 254]\n",
            "  [254 254 254]\n",
            "  [254 254 254]\n",
            "  ...\n",
            "  [254 254 254]\n",
            "  [254 254 254]\n",
            "  [254 254 254]]\n",
            "\n",
            " [[254 254 254]\n",
            "  [254 254 254]\n",
            "  [254 254 254]\n",
            "  ...\n",
            "  [254 254 254]\n",
            "  [254 254 254]\n",
            "  [254 254 254]]\n",
            "\n",
            " ...\n",
            "\n",
            " [[255 255 255]\n",
            "  [255 255 255]\n",
            "  [255 255 255]\n",
            "  ...\n",
            "  [255 255 255]\n",
            "  [255 255 255]\n",
            "  [255 255 255]]\n",
            "\n",
            " [[255 255 255]\n",
            "  [255 255 255]\n",
            "  [255 255 255]\n",
            "  ...\n",
            "  [255 255 255]\n",
            "  [255 255 255]\n",
            "  [255 255 255]]\n",
            "\n",
            " [[255 255 255]\n",
            "  [255 255 255]\n",
            "  [255 255 255]\n",
            "  ...\n",
            "  [255 255 255]\n",
            "  [255 255 255]\n",
            "  [255 255 255]]] [[[255 255 255]\n",
            "  [255 255 255]\n",
            "  [255 255 255]\n",
            "  ...\n",
            "  [255 255 255]\n",
            "  [255 255 255]\n",
            "  [255 255 255]]\n",
            "\n",
            " [[255 255 255]\n",
            "  [255 255 255]\n",
            "  [255 255 255]\n",
            "  ...\n",
            "  [255 255 255]\n",
            "  [255 255 255]\n",
            "  [255 255 255]]\n",
            "\n",
            " [[255 255 255]\n",
            "  [255 255 255]\n",
            "  [255 255 255]\n",
            "  ...\n",
            "  [255 255 255]\n",
            "  [255 255 255]\n",
            "  [255 255 255]]\n",
            "\n",
            " ...\n",
            "\n",
            " [[255 255 255]\n",
            "  [255 255 255]\n",
            "  [255 255 255]\n",
            "  ...\n",
            "  [255 255 255]\n",
            "  [255 255 255]\n",
            "  [255 255 255]]\n",
            "\n",
            " [[255 255 255]\n",
            "  [255 255 255]\n",
            "  [255 255 255]\n",
            "  ...\n",
            "  [255 255 255]\n",
            "  [255 255 255]\n",
            "  [255 255 255]]\n",
            "\n",
            " [[255 255 255]\n",
            "  [255 255 255]\n",
            "  [255 255 255]\n",
            "  ...\n",
            "  [255 255 255]\n",
            "  [255 255 255]\n",
            "  [255 255 255]]] [[[242 242 242]\n",
            "  [242 242 242]\n",
            "  [242 242 242]\n",
            "  ...\n",
            "  [240 242 242]\n",
            "  [242 242 242]\n",
            "  [242 242 242]]\n",
            "\n",
            " [[242 242 242]\n",
            "  [242 242 242]\n",
            "  [242 242 242]\n",
            "  ...\n",
            "  [240 242 242]\n",
            "  [242 242 242]\n",
            "  [242 242 242]]\n",
            "\n",
            " [[242 242 242]\n",
            "  [242 242 242]\n",
            "  [242 242 242]\n",
            "  ...\n",
            "  [240 242 242]\n",
            "  [242 242 242]\n",
            "  [242 242 242]]\n",
            "\n",
            " ...\n",
            "\n",
            " [[240 240 240]\n",
            "  [241 241 241]\n",
            "  [246 244 244]\n",
            "  ...\n",
            "  [244 242 242]\n",
            "  [242 242 242]\n",
            "  [242 242 242]]\n",
            "\n",
            " [[244 244 244]\n",
            "  [243 243 243]\n",
            "  [246 244 244]\n",
            "  ...\n",
            "  [244 242 242]\n",
            "  [242 242 242]\n",
            "  [242 242 242]]\n",
            "\n",
            " [[241 241 241]\n",
            "  [241 241 241]\n",
            "  [240 238 238]\n",
            "  ...\n",
            "  [244 242 242]\n",
            "  [242 242 242]\n",
            "  [242 242 242]]] [[[255 255 255]\n",
            "  [255 255 255]\n",
            "  [255 255 255]\n",
            "  ...\n",
            "  [255 255 255]\n",
            "  [255 255 255]\n",
            "  [255 255 255]]\n",
            "\n",
            " [[255 255 255]\n",
            "  [255 253 253]\n",
            "  [254 252 252]\n",
            "  ...\n",
            "  [255 255 255]\n",
            "  [255 255 255]\n",
            "  [255 255 255]]\n",
            "\n",
            " [[253 253 253]\n",
            "  [255 255 255]\n",
            "  [255 255 255]\n",
            "  ...\n",
            "  [255 255 255]\n",
            "  [255 255 255]\n",
            "  [255 255 255]]\n",
            "\n",
            " ...\n",
            "\n",
            " [[255 255 255]\n",
            "  [255 255 255]\n",
            "  [255 255 255]\n",
            "  ...\n",
            "  [253 255 255]\n",
            "  [253 255 255]\n",
            "  [253 255 255]]\n",
            "\n",
            " [[255 255 255]\n",
            "  [255 255 255]\n",
            "  [255 255 255]\n",
            "  ...\n",
            "  [255 255 255]\n",
            "  [255 255 255]\n",
            "  [255 255 255]]\n",
            "\n",
            " [[255 255 255]\n",
            "  [255 255 255]\n",
            "  [255 255 255]\n",
            "  ...\n",
            "  [255 255 255]\n",
            "  [255 255 255]\n",
            "  [255 255 255]]] [[[246 244 244]\n",
            "  [242 240 240]\n",
            "  [246 244 244]\n",
            "  ...\n",
            "  [244 242 242]\n",
            "  [244 242 242]\n",
            "  [244 242 242]]\n",
            "\n",
            " [[241 239 239]\n",
            "  [246 244 244]\n",
            "  [244 242 242]\n",
            "  ...\n",
            "  [244 242 242]\n",
            "  [244 242 242]\n",
            "  [244 242 242]]\n",
            "\n",
            " [[246 244 244]\n",
            "  [242 240 240]\n",
            "  [243 241 241]\n",
            "  ...\n",
            "  [244 242 242]\n",
            "  [244 242 242]\n",
            "  [244 242 242]]\n",
            "\n",
            " ...\n",
            "\n",
            " [[244 242 242]\n",
            "  [243 241 241]\n",
            "  [245 243 243]\n",
            "  ...\n",
            "  [244 242 242]\n",
            "  [244 242 242]\n",
            "  [244 242 242]]\n",
            "\n",
            " [[244 242 242]\n",
            "  [245 243 243]\n",
            "  [245 243 243]\n",
            "  ...\n",
            "  [244 242 242]\n",
            "  [244 242 242]\n",
            "  [244 242 242]]\n",
            "\n",
            " [[242 240 240]\n",
            "  [247 245 245]\n",
            "  [242 240 240]\n",
            "  ...\n",
            "  [244 242 242]\n",
            "  [244 242 242]\n",
            "  [244 242 242]]]\n"
          ]
        }
      ]
    },
    {
      "cell_type": "code",
      "source": [
        "vestimenta = [\"Camiseta\", \"Pantalón\", \"Abrigo\", \"Vestido\", \"Sueter\", \"Sandalia\", \"Camisa\", \"Tenis\", \"Bolsa\", \"Bota\"]"
      ],
      "metadata": {
        "id": "Rzx0Xo7AQhMr"
      },
      "execution_count": 109,
      "outputs": []
    },
    {
      "cell_type": "code",
      "source": [
        "cantidad_vestuario_entrenamiento = metadata.splits[\"train\"].num_examples\n",
        "cantidad_vestuario_prueba = metadata.splits[\"test\"].num_examples\n",
        "print(cantidad_vestuario_entrenamiento, cantidad_vestuario_prueba)"
      ],
      "metadata": {
        "id": "6O8nexB3QlUg"
      },
      "execution_count": null,
      "outputs": []
    },
    {
      "cell_type": "code",
      "source": [
        "def normalizacion(img, label):\n",
        "  img = tf.cast(img, tf.float32)\n",
        "  img /= 255 \n",
        "  return img, label"
      ],
      "metadata": {
        "id": "o7p0YNo0QrJX"
      },
      "execution_count": 111,
      "outputs": []
    },
    {
      "cell_type": "code",
      "source": [
        "datos_entrenamiento = datos_entrenamiento.map(normalizacion)\n",
        "datos_prueba = datos_prueba.map(normalizacion)"
      ],
      "metadata": {
        "id": "3RHj22K-Qwo9"
      },
      "execution_count": 112,
      "outputs": []
    },
    {
      "cell_type": "code",
      "source": [
        "modelo = tf.keras.Sequential([\n",
        "    tf.keras.layers.Flatten(input_shape=(28,28,1)), \n",
        "    tf.keras.layers.Dense(64, activation=tf.nn.relu), \n",
        "    tf.keras.layers.Dense(64, activation=tf.nn.relu),\n",
        "    tf.keras.layers.Dense(10, activation=tf.nn.softmax) \n",
        "])"
      ],
      "metadata": {
        "id": "grTRxCtg9X6k"
      },
      "execution_count": 113,
      "outputs": []
    },
    {
      "cell_type": "code",
      "source": [
        "modelo.compile(\n",
        "    optimizer = \"adam\",\n",
        "    loss = \"sparse_categorical_crossentropy\",\n",
        "    metrics = ['accuracy']\n",
        ")"
      ],
      "metadata": {
        "id": "yHKcucTiCf3z"
      },
      "execution_count": 114,
      "outputs": []
    },
    {
      "cell_type": "code",
      "source": [
        "size_lote = 32 \n",
        "datos_entrenamiento = datos_entrenamiento.repeat().shuffle(cantidad_vestuario_entrenamiento).batch(size_lote)\n",
        "datos_prueba = datos_prueba.repeat().shuffle(cantidad_vestuario_prueba).batch(size_lote)"
      ],
      "metadata": {
        "id": "8R3YslXoDFgO"
      },
      "execution_count": 115,
      "outputs": []
    },
    {
      "cell_type": "code",
      "source": [
        "modelo.fit(datos_entrenamiento, epochs = 5,\n",
        "           steps_per_epoch=math.ceil(cantidad_vestuario_entrenamiento/size_lote))"
      ],
      "metadata": {
        "id": "44IHylwTE7mj",
        "colab": {
          "base_uri": "https://localhost:8080/"
        },
        "outputId": "a8cfd667-62fe-46dd-f4c1-b3d3ab04f4c8"
      },
      "execution_count": 116,
      "outputs": [
        {
          "output_type": "stream",
          "name": "stdout",
          "text": [
            "Epoch 1/5\n",
            "1875/1875 [==============================] - 15s 5ms/step - loss: 0.5057 - accuracy: 0.8213\n",
            "Epoch 2/5\n",
            "1875/1875 [==============================] - 9s 5ms/step - loss: 0.3782 - accuracy: 0.8626\n",
            "Epoch 3/5\n",
            "1875/1875 [==============================] - 9s 5ms/step - loss: 0.3418 - accuracy: 0.8735\n",
            "Epoch 4/5\n",
            "1875/1875 [==============================] - 9s 5ms/step - loss: 0.3142 - accuracy: 0.8849\n",
            "Epoch 5/5\n",
            "1875/1875 [==============================] - 10s 5ms/step - loss: 0.3047 - accuracy: 0.8868\n"
          ]
        },
        {
          "output_type": "execute_result",
          "data": {
            "text/plain": [
              "<keras.callbacks.History at 0x7f10749fea90>"
            ]
          },
          "metadata": {},
          "execution_count": 116
        }
      ]
    },
    {
      "cell_type": "code",
      "source": [
        "i=0\n",
        "for miImg, etiqueta in datos_entrenamiento.take(1):\n",
        "  etiqueta = etiqueta.numpy()\n",
        "  img = miImg[i].numpy().reshape(1,28,28,1)\n",
        "  prediccion = modelo.predict(img, batch_size=1)\n",
        "\n",
        "  valor_predicho = np.argmax(prediccion)\n",
        "  print(valor_predicho, etiqueta[i])\n",
        "\n",
        "  plt.grid(False)\n",
        "  plt.imshow(img[0,...,0], cmap=plt.cm.binary)\n",
        "  plt.xlabel(\"Prediccion: {}\".format(vestimenta[valor_predicho]), color=\"blue\")"
      ],
      "metadata": {
        "id": "c9e7hyQxH_Hm",
        "colab": {
          "base_uri": "https://localhost:8080/",
          "height": 296
        },
        "outputId": "25d4f54b-f66b-4df1-ff15-18253f435bcf"
      },
      "execution_count": 132,
      "outputs": [
        {
          "output_type": "stream",
          "name": "stdout",
          "text": [
            "8 8\n"
          ]
        },
        {
          "output_type": "display_data",
          "data": {
            "text/plain": [
              "<Figure size 432x288 with 1 Axes>"
            ],
            "image/png": "[encoded data removed]"
          },
          "metadata": {
            "needs_background": "light"
          }
        }
      ]
    }
  ],
  "metadata": {
    "colab": {
      "collapsed_sections": [],
      "provenance": [],
      "include_colab_link": true
    },
    "kernelspec": {
      "display_name": "Python 3",
      "name": "python3"
    }
  },
  "nbformat": 4,
  "nbformat_minor": 0
}