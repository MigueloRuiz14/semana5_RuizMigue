{
  "cells": [
    {
      "cell_type": "markdown",
      "metadata": {
        "id": "view-in-github",
        "colab_type": "text"
      },
      "source": [
        "<a href=\"https://colab.research.google.com/github/MigueloRuiz14/semana5_RuizMigue/blob/master/FUNCIONES_Y_LAMBDA.ipynb\" target=\"_parent\"><img src=\"https://colab.research.google.com/assets/colab-badge.svg\" alt=\"Open In Colab\"/></a>"
      ]
    },
    {
      "cell_type": "code",
      "source": [
        "#EJERCICIO DE NOTAS USANDO FUNCIONES"
      ],
      "metadata": {
        "id": "n9uZQbmqSASL"
      },
      "execution_count": null,
      "outputs": []
    },
    {
      "cell_type": "code",
      "source": [
        "#CÓMPUTO 1"
      ],
      "metadata": {
        "id": "Ag7R-CXcSIRN"
      },
      "execution_count": null,
      "outputs": []
    },
    {
      "cell_type": "code",
      "source": [
        "def NotaC1(no1,no2,no3):\n",
        "  return no1*0.30+no2*0.30+no3*0.40"
      ],
      "metadata": {
        "id": "5QgIfDPIR6ju"
      },
      "execution_count": null,
      "outputs": []
    },
    {
      "cell_type": "code",
      "source": [
        "no1 = float (input(\"Ingrese nota de laboratorio 1: \"))\n",
        "no2 = float (input(\"Ingrese nota de laboratorio 2: \"))\n",
        "no3 = float (input(\"Ingrese nota del Parcial: \"))"
      ],
      "metadata": {
        "id": "YCl7H_acSVzZ"
      },
      "execution_count": null,
      "outputs": []
    },
    {
      "cell_type": "code",
      "source": [
        "notaC1 = NotaC1(no1,no2,no3)"
      ],
      "metadata": {
        "id": "_mF3_2JUSlry"
      },
      "execution_count": null,
      "outputs": []
    },
    {
      "cell_type": "code",
      "source": [
        "print(\"LA NOTA DEL CÓMPUTO 1 ES: \", notaC1)"
      ],
      "metadata": {
        "id": "b5sbNttwStJ1"
      },
      "execution_count": null,
      "outputs": []
    },
    {
      "cell_type": "code",
      "source": [
        "#CÓMPUTO 2"
      ],
      "metadata": {
        "id": "8nHFRCIoTl8j"
      },
      "execution_count": null,
      "outputs": []
    },
    {
      "cell_type": "code",
      "source": [
        "def NotaC2(not1,not2,not3):\n",
        "  return not1*0.30+not2*0.30+not3*0.40"
      ],
      "metadata": {
        "id": "dyoVbcV4TpOo"
      },
      "execution_count": null,
      "outputs": []
    },
    {
      "cell_type": "code",
      "source": [
        "not1 = float (input(\"Ingrese nota de laboratorio 1: \"))\n",
        "not2 = float (input(\"Ingrese nota de laboratorio 2: \"))\n",
        "not3 = float (input(\"Ingrese nota del Parcial: \"))"
      ],
      "metadata": {
        "id": "inLxtnteTrvf"
      },
      "execution_count": null,
      "outputs": []
    },
    {
      "cell_type": "code",
      "source": [
        "notaC2 = NotaC2(not1,not2,not3)"
      ],
      "metadata": {
        "id": "gAVa55a1TuXP"
      },
      "execution_count": null,
      "outputs": []
    },
    {
      "cell_type": "code",
      "source": [
        "print(\"LA NOTA DEL CÓMPUTO 2 ES: \", notaC2)"
      ],
      "metadata": {
        "id": "4uXwsgVATwpS"
      },
      "execution_count": null,
      "outputs": []
    },
    {
      "cell_type": "code",
      "source": [
        "#CÓMPUTO 3"
      ],
      "metadata": {
        "id": "M51MPn0MUA9B"
      },
      "execution_count": null,
      "outputs": []
    },
    {
      "cell_type": "code",
      "source": [
        "def NotaC3(n1,n2,n3):\n",
        "  return n1*0.30+n2*0.30+n3*0.40"
      ],
      "metadata": {
        "id": "QtD-9ayaUDsK"
      },
      "execution_count": null,
      "outputs": []
    },
    {
      "cell_type": "code",
      "source": [
        "n1 = float (input(\"Ingrese nota de laboratorio 1: \"))\n",
        "n2 = float (input(\"Ingrese nota de laboratorio 2: \"))\n",
        "n3 = float (input(\"Ingrese nota del Parcial: \"))"
      ],
      "metadata": {
        "id": "z9RjdibNUFa7"
      },
      "execution_count": null,
      "outputs": []
    },
    {
      "cell_type": "code",
      "source": [
        "notaC3 = NotaC3(n1,n2,n3)"
      ],
      "metadata": {
        "id": "AueWDGXfUH3M"
      },
      "execution_count": null,
      "outputs": []
    },
    {
      "cell_type": "code",
      "source": [
        "print(\"LA NOTA DEL CÓMPUTO 3 ES: \", notaC3)"
      ],
      "metadata": {
        "id": "HlCH1ksPUJ-B"
      },
      "execution_count": null,
      "outputs": []
    },
    {
      "cell_type": "code",
      "source": [
        "#NOTA DE CICLO"
      ],
      "metadata": {
        "id": "zuYptTYPUX3R"
      },
      "execution_count": null,
      "outputs": []
    },
    {
      "cell_type": "code",
      "source": [
        "def NotaFinal(notaC1,notaC2,notaC3):\n",
        "  return (notaC1 + notaC2 + notaC3)/3"
      ],
      "metadata": {
        "id": "-ZSTXhS0UbPY"
      },
      "execution_count": null,
      "outputs": []
    },
    {
      "cell_type": "code",
      "source": [
        "Final = NotaFinal(notaC1,notaC2,notaC3)"
      ],
      "metadata": {
        "id": "lu5fe8VbUtAq"
      },
      "execution_count": null,
      "outputs": []
    },
    {
      "cell_type": "code",
      "source": [
        "print(\"LA NOTA FINAL ES: \", Final)"
      ],
      "metadata": {
        "id": "WnLbxbkQU6QK",
        "colab": {
          "base_uri": "https://localhost:8080/"
        },
        "outputId": "a0c6553b-0474-4c44-a623-518a8301b026"
      },
      "execution_count": null,
      "outputs": [
        {
          "output_type": "stream",
          "name": "stdout",
          "text": [
            "LA NOTA FINAL ES:  9.0\n"
          ]
        }
      ]
    },
    {
      "cell_type": "code",
      "source": [
        "#EJERCICIO DE NOTAS USANDO LAMBDA"
      ],
      "metadata": {
        "id": "fNtb9g-4Vopj"
      },
      "execution_count": null,
      "outputs": []
    },
    {
      "cell_type": "code",
      "source": [
        "#CÓMPUTO 1"
      ],
      "metadata": {
        "id": "-WPJ-S5nVrTo"
      },
      "execution_count": null,
      "outputs": []
    },
    {
      "cell_type": "code",
      "source": [
        "NotaC1 = lambda no1,no2,no3: no1*0.30+no2*0.30+no3*0.40"
      ],
      "metadata": {
        "id": "e9HyJEqNVurr"
      },
      "execution_count": null,
      "outputs": []
    },
    {
      "cell_type": "code",
      "source": [
        "print(\"LA NOTA DEL CÓMPUTO 1 ES: \", NotaC1(no1,no2,no3))"
      ],
      "metadata": {
        "id": "Y4CS9H0JVzPa",
        "colab": {
          "base_uri": "https://localhost:8080/"
        },
        "outputId": "7cc24d6a-66ec-4e66-de6c-0c06786f9631"
      },
      "execution_count": null,
      "outputs": [
        {
          "output_type": "stream",
          "name": "stdout",
          "text": [
            "LA NOTA DEL CÓMPUTO 1 ES:  10.0\n"
          ]
        }
      ]
    },
    {
      "cell_type": "code",
      "source": [
        "#CÓMPUTO 2"
      ],
      "metadata": {
        "id": "Xvjptw29WfMw"
      },
      "execution_count": null,
      "outputs": []
    },
    {
      "cell_type": "code",
      "source": [
        "NotaC2 = lambda not1,not2,not3 : not1*0.30+not2*0.30+not3*0.40"
      ],
      "metadata": {
        "id": "ck4OdxQjWXsf"
      },
      "execution_count": null,
      "outputs": []
    },
    {
      "cell_type": "code",
      "source": [
        "print(\"LA NOTA DEL CÓMPUTO 2 ES: \", NotaC2(not1,not2,not3))"
      ],
      "metadata": {
        "id": "x-L2MUNPWdL6",
        "colab": {
          "base_uri": "https://localhost:8080/"
        },
        "outputId": "fbacd020-6df3-4606-c2c1-ce930628f340"
      },
      "execution_count": null,
      "outputs": [
        {
          "output_type": "stream",
          "name": "stdout",
          "text": [
            "LA NOTA DEL CÓMPUTO 2 ES:  9.0\n"
          ]
        }
      ]
    },
    {
      "cell_type": "code",
      "source": [
        "#CÓMPUTO 3"
      ],
      "metadata": {
        "id": "YOjtxqDPWtk3"
      },
      "execution_count": null,
      "outputs": []
    },
    {
      "cell_type": "code",
      "source": [
        "NotaC3 = lambda n1,n2,n3 : n1*0.30+n2*0.30+n3*0.40"
      ],
      "metadata": {
        "id": "FfinDh9lWv6i"
      },
      "execution_count": null,
      "outputs": []
    },
    {
      "cell_type": "code",
      "source": [
        "print(\"LA NOTA DEL CÓMPUTO 3 ES: \", NotaC3(n1,n2,n3))"
      ],
      "metadata": {
        "id": "CJlka0okWym_",
        "colab": {
          "base_uri": "https://localhost:8080/"
        },
        "outputId": "b6f76878-fa10-4d6d-f763-69f201883ef9"
      },
      "execution_count": null,
      "outputs": [
        {
          "output_type": "stream",
          "name": "stdout",
          "text": [
            "LA NOTA DEL CÓMPUTO 3 ES:  8.0\n"
          ]
        }
      ]
    },
    {
      "cell_type": "code",
      "source": [
        "#NOTA DE CICLO"
      ],
      "metadata": {
        "id": "6A3MBSgRXD_G"
      },
      "execution_count": null,
      "outputs": []
    },
    {
      "cell_type": "code",
      "source": [
        "NotaFinal = lambda notaC1, notaC2, notaC3: (notaC1 + notaC2 + notaC3)/3"
      ],
      "metadata": {
        "id": "H47KZx2WXI-Q"
      },
      "execution_count": null,
      "outputs": []
    },
    {
      "cell_type": "code",
      "source": [
        "print(\"LA NOTA FINAL ES: \", NotaFinal(notaC1, notaC2, notaC3))"
      ],
      "metadata": {
        "id": "ousp0d7XXlTN",
        "colab": {
          "base_uri": "https://localhost:8080/"
        },
        "outputId": "8d776ff6-a6bb-4bc5-d28d-d49c294ab7c7"
      },
      "execution_count": null,
      "outputs": [
        {
          "output_type": "stream",
          "name": "stdout",
          "text": [
            "LA NOTA FINAL ES:  9.0\n"
          ]
        }
      ]
    },
    {
      "cell_type": "markdown",
      "source": [
        "# **Semana 7**"
      ],
      "metadata": {
        "id": "UTwBYjAJ0xB4"
      }
    },
    {
      "cell_type": "code",
      "source": [
        "#POO\n",
        "\n",
        "class deducciones:\n",
        "  def __init__(self, sueldo, porcentajeISSS, porcentajeAFP, tablaIsr):\n",
        "   self.sueldo = sueldo\n",
        "   self.porcentajeISSS = porcentajeISSS\n",
        "   self.porcentajeAFP = porcentajeAFP\n",
        "   self.tablaIsr = tablaIsr\n",
        "\n",
        "  def CalcularISSS(self):\n",
        "    return self.sueldo * self.porcentajeISSS/100\n",
        "\n",
        "  def CalcularAFP(self):\n",
        "    return self.sueldo * self.porcentajeAFP/100\n",
        "\n",
        "  def CalcularIsr(self):\n",
        "    self.sueldoNeto = self.sueldo - (self.CalcularISSS() + self.CalcularAFP())\n",
        "\n",
        "    isr = 0\n",
        "    for tramo in self.tablaIsr:\n",
        "      \n",
        "      if self.sueldoNeto >= tramo[0] and self.sueldoNeto <= tramo[1]:\n",
        "        isr = (self.sueldoNeto - tramo[0]) * tramo[2] + tramo[3]\n",
        "    return isr"
      ],
      "metadata": {
        "id": "qR-BLljl04Cr"
      },
      "execution_count": null,
      "outputs": []
    },
    {
      "cell_type": "code",
      "source": [
        "porcentajeISSSE = 7.5\n",
        "porcentajeAFPE =7.75\n"
      ],
      "metadata": {
        "id": "Qmc2bwvt8aR9"
      },
      "execution_count": null,
      "outputs": []
    },
    {
      "cell_type": "code",
      "source": [
        "porcentajeISSSP = 3\n",
        "porcentajeAFPP = 6.25\n",
        "\n",
        "tablaIsrP = [\n",
        "    [0.01,    472,     0,     0],            #TRAMO1\n",
        "    [472.01,  895.24,  0.1,   17.67],        #TRAMO2\n",
        "    [895.25,  2038.10, 0.2,   60],           #TRAMO3\n",
        "    [2038.11, 99999,   0.3,   288.57]        #TRAMO4\n",
        "    ]"
      ],
      "metadata": {
        "id": "boUmezMy87yl"
      },
      "execution_count": null,
      "outputs": []
    },
    {
      "cell_type": "code",
      "source": [
        "sueldo = float(input(\"Ingrese un sueldo: \"))\n",
        "dp = deducciones(sueldo, porcentajeISSSP, porcentajeAFPP, tablaIsrP)\n",
        "de = deducciones(sueldo, porcentajeISSSE, porcentajeAFPE)\n",
        "\n",
        "print(\"ISSS personas : \", dp.CalcularISSS(), \"ISSS empresa: \", de.CalcularISSS(), \"ISR persona\", dp.CalcularIsr())\n",
        "print(\"AFP personas : \", dp.CalcularAFP(), \"AFP empresa: \", de.CalcularAFP())"
      ],
      "metadata": {
        "id": "jPC5lGnW55xE"
      },
      "execution_count": null,
      "outputs": []
    },
    {
      "cell_type": "markdown",
      "source": [
        "# **SEMANA 11**"
      ],
      "metadata": {
        "id": "ZuVBDCB2QTs2"
      }
    },
    {
      "cell_type": "code",
      "source": [
        "#1. Importar las librerias.\n",
        "import tensorflow as tf\n",
        "import matplotlib.pyplot as plt\n",
        "import numpy as np\n",
        "import math\n",
        "import tensorflow_datasets as tfds"
      ],
      "metadata": {
        "id": "8PLMnSSIQXTv"
      },
      "execution_count": 18,
      "outputs": []
    },
    {
      "cell_type": "code",
      "source": [
        "#2. Cargamos el dataset\n",
        "dataset, metadata = tfds.load('fashion_mnist', as_supervised=True, with_info=True)\n",
        "#print(dataset[\"train\"])\n",
        "datos_entrenamiento, datos_prueba = dataset[\"train\"], dataset[\"test\"]"
      ],
      "metadata": {
        "id": "ptZk6kWGQbsD"
      },
      "execution_count": 19,
      "outputs": []
    },
    {
      "cell_type": "code",
      "source": [
        "#monstrar una imagen...\n",
        "for img in datos_entrenamiento.take(1):\n",
        "  print(img)\n",
        "  img = img[0].numpy().reshape(1,28,28,1)\n",
        "  plt.grid(False)\n",
        "  plt.imshow(img[0, ..., 0], cmap=plt.cm.binary)"
      ],
      "metadata": {
        "id": "BxcmT8PzQeTS",
        "colab": {
          "base_uri": "https://localhost:8080/",
          "height": 1000
        },
        "outputId": "318bd076-e346-44dd-d3ed-06bcc8f2a62d"
      },
      "execution_count": 20,
      "outputs": [
        {
          "output_type": "stream",
          "name": "stdout",
          "text": [
            "(<tf.Tensor: shape=(28, 28, 1), dtype=uint8, numpy=\n",
            "array([[[  0],\n",
            "        [  0],\n",
            "        [  0],\n",
            "        [  0],\n",
            "        [  0],\n",
            "        [  0],\n",
            "        [  0],\n",
            "        [  0],\n",
            "        [  0],\n",
            "        [ 18],\n",
            "        [ 77],\n",
            "        [227],\n",
            "        [227],\n",
            "        [208],\n",
            "        [210],\n",
            "        [225],\n",
            "        [216],\n",
            "        [ 85],\n",
            "        [ 32],\n",
            "        [  0],\n",
            "        [  0],\n",
            "        [  0],\n",
            "        [  0],\n",
            "        [  0],\n",
            "        [  0],\n",
            "        [  0],\n",
            "        [  0],\n",
            "        [  0]],\n",
            "\n",
            "       [[  0],\n",
            "        [  0],\n",
            "        [  0],\n",
            "        [  0],\n",
            "        [  0],\n",
            "        [  0],\n",
            "        [  0],\n",
            "        [ 61],\n",
            "        [100],\n",
            "        [ 97],\n",
            "        [ 80],\n",
            "        [ 57],\n",
            "        [117],\n",
            "        [227],\n",
            "        [238],\n",
            "        [115],\n",
            "        [ 49],\n",
            "        [ 78],\n",
            "        [106],\n",
            "        [108],\n",
            "        [ 71],\n",
            "        [  0],\n",
            "        [  0],\n",
            "        [  0],\n",
            "        [  0],\n",
            "        [  0],\n",
            "        [  0],\n",
            "        [  0]],\n",
            "\n",
            "       [[  0],\n",
            "        [  0],\n",
            "        [  0],\n",
            "        [  0],\n",
            "        [  0],\n",
            "        [  0],\n",
            "        [ 81],\n",
            "        [105],\n",
            "        [ 80],\n",
            "        [ 69],\n",
            "        [ 72],\n",
            "        [ 64],\n",
            "        [ 44],\n",
            "        [ 21],\n",
            "        [ 13],\n",
            "        [ 44],\n",
            "        [ 69],\n",
            "        [ 75],\n",
            "        [ 75],\n",
            "        [ 80],\n",
            "        [114],\n",
            "        [ 80],\n",
            "        [  0],\n",
            "        [  0],\n",
            "        [  0],\n",
            "        [  0],\n",
            "        [  0],\n",
            "        [  0]],\n",
            "\n",
            "       [[  0],\n",
            "        [  0],\n",
            "        [  0],\n",
            "        [  0],\n",
            "        [  0],\n",
            "        [ 26],\n",
            "        [ 92],\n",
            "        [ 69],\n",
            "        [ 68],\n",
            "        [ 75],\n",
            "        [ 75],\n",
            "        [ 71],\n",
            "        [ 74],\n",
            "        [ 83],\n",
            "        [ 75],\n",
            "        [ 77],\n",
            "        [ 78],\n",
            "        [ 74],\n",
            "        [ 74],\n",
            "        [ 83],\n",
            "        [ 77],\n",
            "        [108],\n",
            "        [ 34],\n",
            "        [  0],\n",
            "        [  0],\n",
            "        [  0],\n",
            "        [  0],\n",
            "        [  0]],\n",
            "\n",
            "       [[  0],\n",
            "        [  0],\n",
            "        [  0],\n",
            "        [  0],\n",
            "        [  0],\n",
            "        [ 55],\n",
            "        [ 92],\n",
            "        [ 69],\n",
            "        [ 74],\n",
            "        [ 74],\n",
            "        [ 71],\n",
            "        [ 71],\n",
            "        [ 77],\n",
            "        [ 69],\n",
            "        [ 66],\n",
            "        [ 75],\n",
            "        [ 74],\n",
            "        [ 77],\n",
            "        [ 80],\n",
            "        [ 80],\n",
            "        [ 78],\n",
            "        [ 94],\n",
            "        [ 63],\n",
            "        [  0],\n",
            "        [  0],\n",
            "        [  0],\n",
            "        [  0],\n",
            "        [  0]],\n",
            "\n",
            "       [[  0],\n",
            "        [  0],\n",
            "        [  0],\n",
            "        [  0],\n",
            "        [  0],\n",
            "        [ 63],\n",
            "        [ 95],\n",
            "        [ 66],\n",
            "        [ 68],\n",
            "        [ 72],\n",
            "        [ 72],\n",
            "        [ 69],\n",
            "        [ 72],\n",
            "        [ 74],\n",
            "        [ 74],\n",
            "        [ 74],\n",
            "        [ 75],\n",
            "        [ 75],\n",
            "        [ 77],\n",
            "        [ 80],\n",
            "        [ 77],\n",
            "        [106],\n",
            "        [ 61],\n",
            "        [  0],\n",
            "        [  0],\n",
            "        [  0],\n",
            "        [  0],\n",
            "        [  0]],\n",
            "\n",
            "       [[  0],\n",
            "        [  0],\n",
            "        [  0],\n",
            "        [  0],\n",
            "        [  0],\n",
            "        [ 80],\n",
            "        [108],\n",
            "        [ 71],\n",
            "        [ 69],\n",
            "        [ 72],\n",
            "        [ 71],\n",
            "        [ 69],\n",
            "        [ 72],\n",
            "        [ 75],\n",
            "        [ 75],\n",
            "        [ 72],\n",
            "        [ 72],\n",
            "        [ 75],\n",
            "        [ 78],\n",
            "        [ 72],\n",
            "        [ 85],\n",
            "        [128],\n",
            "        [ 64],\n",
            "        [  0],\n",
            "        [  0],\n",
            "        [  0],\n",
            "        [  0],\n",
            "        [  0]],\n",
            "\n",
            "       [[  0],\n",
            "        [  0],\n",
            "        [  0],\n",
            "        [  0],\n",
            "        [  0],\n",
            "        [ 88],\n",
            "        [120],\n",
            "        [ 75],\n",
            "        [ 74],\n",
            "        [ 77],\n",
            "        [ 75],\n",
            "        [ 72],\n",
            "        [ 77],\n",
            "        [ 74],\n",
            "        [ 74],\n",
            "        [ 77],\n",
            "        [ 78],\n",
            "        [ 83],\n",
            "        [ 83],\n",
            "        [ 66],\n",
            "        [111],\n",
            "        [123],\n",
            "        [ 78],\n",
            "        [  0],\n",
            "        [  0],\n",
            "        [  0],\n",
            "        [  0],\n",
            "        [  0]],\n",
            "\n",
            "       [[  0],\n",
            "        [  0],\n",
            "        [  0],\n",
            "        [  0],\n",
            "        [  0],\n",
            "        [ 85],\n",
            "        [134],\n",
            "        [ 74],\n",
            "        [ 85],\n",
            "        [ 69],\n",
            "        [ 75],\n",
            "        [ 75],\n",
            "        [ 74],\n",
            "        [ 75],\n",
            "        [ 74],\n",
            "        [ 75],\n",
            "        [ 75],\n",
            "        [ 81],\n",
            "        [ 75],\n",
            "        [ 61],\n",
            "        [151],\n",
            "        [115],\n",
            "        [ 91],\n",
            "        [ 12],\n",
            "        [  0],\n",
            "        [  0],\n",
            "        [  0],\n",
            "        [  0]],\n",
            "\n",
            "       [[  0],\n",
            "        [  0],\n",
            "        [  0],\n",
            "        [  0],\n",
            "        [ 10],\n",
            "        [ 85],\n",
            "        [153],\n",
            "        [ 83],\n",
            "        [ 80],\n",
            "        [ 68],\n",
            "        [ 77],\n",
            "        [ 75],\n",
            "        [ 74],\n",
            "        [ 75],\n",
            "        [ 74],\n",
            "        [ 75],\n",
            "        [ 77],\n",
            "        [ 80],\n",
            "        [ 68],\n",
            "        [ 61],\n",
            "        [162],\n",
            "        [122],\n",
            "        [ 78],\n",
            "        [  6],\n",
            "        [  0],\n",
            "        [  0],\n",
            "        [  0],\n",
            "        [  0]],\n",
            "\n",
            "       [[  0],\n",
            "        [  0],\n",
            "        [  0],\n",
            "        [  0],\n",
            "        [ 30],\n",
            "        [ 75],\n",
            "        [154],\n",
            "        [ 85],\n",
            "        [ 80],\n",
            "        [ 71],\n",
            "        [ 80],\n",
            "        [ 72],\n",
            "        [ 77],\n",
            "        [ 75],\n",
            "        [ 75],\n",
            "        [ 77],\n",
            "        [ 78],\n",
            "        [ 77],\n",
            "        [ 75],\n",
            "        [ 49],\n",
            "        [191],\n",
            "        [132],\n",
            "        [ 72],\n",
            "        [ 15],\n",
            "        [  0],\n",
            "        [  0],\n",
            "        [  0],\n",
            "        [  0]],\n",
            "\n",
            "       [[  0],\n",
            "        [  0],\n",
            "        [  0],\n",
            "        [  0],\n",
            "        [ 58],\n",
            "        [ 66],\n",
            "        [174],\n",
            "        [115],\n",
            "        [ 66],\n",
            "        [ 77],\n",
            "        [ 80],\n",
            "        [ 72],\n",
            "        [ 78],\n",
            "        [ 75],\n",
            "        [ 77],\n",
            "        [ 78],\n",
            "        [ 78],\n",
            "        [ 77],\n",
            "        [ 66],\n",
            "        [ 49],\n",
            "        [222],\n",
            "        [131],\n",
            "        [ 77],\n",
            "        [ 37],\n",
            "        [  0],\n",
            "        [  0],\n",
            "        [  0],\n",
            "        [  0]],\n",
            "\n",
            "       [[  0],\n",
            "        [  0],\n",
            "        [  0],\n",
            "        [  0],\n",
            "        [ 69],\n",
            "        [ 55],\n",
            "        [179],\n",
            "        [139],\n",
            "        [ 55],\n",
            "        [ 92],\n",
            "        [ 74],\n",
            "        [ 74],\n",
            "        [ 78],\n",
            "        [ 74],\n",
            "        [ 78],\n",
            "        [ 77],\n",
            "        [ 75],\n",
            "        [ 80],\n",
            "        [ 64],\n",
            "        [ 55],\n",
            "        [242],\n",
            "        [111],\n",
            "        [ 95],\n",
            "        [ 44],\n",
            "        [  0],\n",
            "        [  0],\n",
            "        [  0],\n",
            "        [  0]],\n",
            "\n",
            "       [[  0],\n",
            "        [  0],\n",
            "        [  0],\n",
            "        [  0],\n",
            "        [ 74],\n",
            "        [ 57],\n",
            "        [159],\n",
            "        [180],\n",
            "        [ 55],\n",
            "        [ 92],\n",
            "        [ 64],\n",
            "        [ 72],\n",
            "        [ 74],\n",
            "        [ 74],\n",
            "        [ 77],\n",
            "        [ 75],\n",
            "        [ 77],\n",
            "        [ 78],\n",
            "        [ 55],\n",
            "        [ 66],\n",
            "        [255],\n",
            "        [ 97],\n",
            "        [108],\n",
            "        [ 49],\n",
            "        [  0],\n",
            "        [  0],\n",
            "        [  0],\n",
            "        [  0]],\n",
            "\n",
            "       [[  0],\n",
            "        [  0],\n",
            "        [  0],\n",
            "        [  0],\n",
            "        [ 74],\n",
            "        [ 66],\n",
            "        [145],\n",
            "        [153],\n",
            "        [ 72],\n",
            "        [ 83],\n",
            "        [ 58],\n",
            "        [ 78],\n",
            "        [ 77],\n",
            "        [ 75],\n",
            "        [ 75],\n",
            "        [ 75],\n",
            "        [ 72],\n",
            "        [ 80],\n",
            "        [ 30],\n",
            "        [132],\n",
            "        [255],\n",
            "        [ 37],\n",
            "        [122],\n",
            "        [ 60],\n",
            "        [  0],\n",
            "        [  0],\n",
            "        [  0],\n",
            "        [  0]],\n",
            "\n",
            "       [[  0],\n",
            "        [  0],\n",
            "        [  0],\n",
            "        [  0],\n",
            "        [ 80],\n",
            "        [ 69],\n",
            "        [142],\n",
            "        [180],\n",
            "        [142],\n",
            "        [ 57],\n",
            "        [ 64],\n",
            "        [ 78],\n",
            "        [ 74],\n",
            "        [ 75],\n",
            "        [ 75],\n",
            "        [ 75],\n",
            "        [ 72],\n",
            "        [ 85],\n",
            "        [ 21],\n",
            "        [185],\n",
            "        [227],\n",
            "        [ 37],\n",
            "        [143],\n",
            "        [ 63],\n",
            "        [  0],\n",
            "        [  0],\n",
            "        [  0],\n",
            "        [  0]],\n",
            "\n",
            "       [[  0],\n",
            "        [  0],\n",
            "        [  0],\n",
            "        [  0],\n",
            "        [ 83],\n",
            "        [ 71],\n",
            "        [136],\n",
            "        [194],\n",
            "        [126],\n",
            "        [ 46],\n",
            "        [ 69],\n",
            "        [ 75],\n",
            "        [ 72],\n",
            "        [ 75],\n",
            "        [ 75],\n",
            "        [ 75],\n",
            "        [ 74],\n",
            "        [ 78],\n",
            "        [ 38],\n",
            "        [139],\n",
            "        [185],\n",
            "        [ 60],\n",
            "        [151],\n",
            "        [ 58],\n",
            "        [  0],\n",
            "        [  0],\n",
            "        [  0],\n",
            "        [  0]],\n",
            "\n",
            "       [[  0],\n",
            "        [  0],\n",
            "        [  0],\n",
            "        [  4],\n",
            "        [ 81],\n",
            "        [ 74],\n",
            "        [145],\n",
            "        [177],\n",
            "        [ 78],\n",
            "        [ 49],\n",
            "        [ 74],\n",
            "        [ 77],\n",
            "        [ 75],\n",
            "        [ 75],\n",
            "        [ 75],\n",
            "        [ 75],\n",
            "        [ 74],\n",
            "        [ 72],\n",
            "        [ 63],\n",
            "        [ 80],\n",
            "        [156],\n",
            "        [117],\n",
            "        [153],\n",
            "        [ 55],\n",
            "        [  0],\n",
            "        [  0],\n",
            "        [  0],\n",
            "        [  0]],\n",
            "\n",
            "       [[  0],\n",
            "        [  0],\n",
            "        [  0],\n",
            "        [ 10],\n",
            "        [ 80],\n",
            "        [ 72],\n",
            "        [157],\n",
            "        [163],\n",
            "        [ 61],\n",
            "        [ 55],\n",
            "        [ 75],\n",
            "        [ 77],\n",
            "        [ 75],\n",
            "        [ 77],\n",
            "        [ 75],\n",
            "        [ 75],\n",
            "        [ 75],\n",
            "        [ 77],\n",
            "        [ 71],\n",
            "        [ 60],\n",
            "        [ 98],\n",
            "        [156],\n",
            "        [132],\n",
            "        [ 58],\n",
            "        [  0],\n",
            "        [  0],\n",
            "        [  0],\n",
            "        [  0]],\n",
            "\n",
            "       [[  0],\n",
            "        [  0],\n",
            "        [  0],\n",
            "        [ 13],\n",
            "        [ 77],\n",
            "        [ 74],\n",
            "        [157],\n",
            "        [143],\n",
            "        [ 43],\n",
            "        [ 61],\n",
            "        [ 72],\n",
            "        [ 75],\n",
            "        [ 77],\n",
            "        [ 75],\n",
            "        [ 74],\n",
            "        [ 77],\n",
            "        [ 77],\n",
            "        [ 75],\n",
            "        [ 71],\n",
            "        [ 58],\n",
            "        [ 80],\n",
            "        [157],\n",
            "        [120],\n",
            "        [ 66],\n",
            "        [  0],\n",
            "        [  0],\n",
            "        [  0],\n",
            "        [  0]],\n",
            "\n",
            "       [[  0],\n",
            "        [  0],\n",
            "        [  0],\n",
            "        [ 18],\n",
            "        [ 81],\n",
            "        [ 74],\n",
            "        [156],\n",
            "        [114],\n",
            "        [ 35],\n",
            "        [ 72],\n",
            "        [ 71],\n",
            "        [ 75],\n",
            "        [ 78],\n",
            "        [ 72],\n",
            "        [ 66],\n",
            "        [ 80],\n",
            "        [ 78],\n",
            "        [ 77],\n",
            "        [ 75],\n",
            "        [ 64],\n",
            "        [ 63],\n",
            "        [165],\n",
            "        [119],\n",
            "        [ 68],\n",
            "        [  0],\n",
            "        [  0],\n",
            "        [  0],\n",
            "        [  0]],\n",
            "\n",
            "       [[  0],\n",
            "        [  0],\n",
            "        [  0],\n",
            "        [ 23],\n",
            "        [ 85],\n",
            "        [ 81],\n",
            "        [177],\n",
            "        [ 57],\n",
            "        [ 52],\n",
            "        [ 77],\n",
            "        [ 71],\n",
            "        [ 78],\n",
            "        [ 80],\n",
            "        [ 72],\n",
            "        [ 75],\n",
            "        [ 74],\n",
            "        [ 77],\n",
            "        [ 77],\n",
            "        [ 75],\n",
            "        [ 64],\n",
            "        [ 37],\n",
            "        [173],\n",
            "        [ 95],\n",
            "        [ 72],\n",
            "        [  0],\n",
            "        [  0],\n",
            "        [  0],\n",
            "        [  0]],\n",
            "\n",
            "       [[  0],\n",
            "        [  0],\n",
            "        [  0],\n",
            "        [ 26],\n",
            "        [ 81],\n",
            "        [ 86],\n",
            "        [160],\n",
            "        [ 20],\n",
            "        [ 75],\n",
            "        [ 77],\n",
            "        [ 77],\n",
            "        [ 80],\n",
            "        [ 78],\n",
            "        [ 80],\n",
            "        [ 89],\n",
            "        [ 78],\n",
            "        [ 81],\n",
            "        [ 83],\n",
            "        [ 80],\n",
            "        [ 74],\n",
            "        [ 20],\n",
            "        [177],\n",
            "        [ 77],\n",
            "        [ 74],\n",
            "        [  0],\n",
            "        [  0],\n",
            "        [  0],\n",
            "        [  0]],\n",
            "\n",
            "       [[  0],\n",
            "        [  0],\n",
            "        [  0],\n",
            "        [ 49],\n",
            "        [ 77],\n",
            "        [ 91],\n",
            "        [200],\n",
            "        [  0],\n",
            "        [ 83],\n",
            "        [ 95],\n",
            "        [ 86],\n",
            "        [ 88],\n",
            "        [ 88],\n",
            "        [ 89],\n",
            "        [ 88],\n",
            "        [ 89],\n",
            "        [ 88],\n",
            "        [ 83],\n",
            "        [ 89],\n",
            "        [ 86],\n",
            "        [  0],\n",
            "        [191],\n",
            "        [ 78],\n",
            "        [ 80],\n",
            "        [ 24],\n",
            "        [  0],\n",
            "        [  0],\n",
            "        [  0]],\n",
            "\n",
            "       [[  0],\n",
            "        [  0],\n",
            "        [  0],\n",
            "        [ 54],\n",
            "        [ 71],\n",
            "        [108],\n",
            "        [165],\n",
            "        [  0],\n",
            "        [ 24],\n",
            "        [ 57],\n",
            "        [ 52],\n",
            "        [ 57],\n",
            "        [ 60],\n",
            "        [ 60],\n",
            "        [ 60],\n",
            "        [ 63],\n",
            "        [ 63],\n",
            "        [ 77],\n",
            "        [ 89],\n",
            "        [ 52],\n",
            "        [  0],\n",
            "        [211],\n",
            "        [ 97],\n",
            "        [ 77],\n",
            "        [ 61],\n",
            "        [  0],\n",
            "        [  0],\n",
            "        [  0]],\n",
            "\n",
            "       [[  0],\n",
            "        [  0],\n",
            "        [  0],\n",
            "        [ 68],\n",
            "        [ 91],\n",
            "        [117],\n",
            "        [137],\n",
            "        [  0],\n",
            "        [  0],\n",
            "        [  0],\n",
            "        [  0],\n",
            "        [  0],\n",
            "        [  0],\n",
            "        [  0],\n",
            "        [  0],\n",
            "        [  0],\n",
            "        [  0],\n",
            "        [  0],\n",
            "        [  0],\n",
            "        [  0],\n",
            "        [ 18],\n",
            "        [216],\n",
            "        [ 94],\n",
            "        [ 97],\n",
            "        [ 57],\n",
            "        [  0],\n",
            "        [  0],\n",
            "        [  0]],\n",
            "\n",
            "       [[  0],\n",
            "        [  0],\n",
            "        [  0],\n",
            "        [ 54],\n",
            "        [115],\n",
            "        [105],\n",
            "        [185],\n",
            "        [  0],\n",
            "        [  0],\n",
            "        [  1],\n",
            "        [  0],\n",
            "        [  0],\n",
            "        [  0],\n",
            "        [  0],\n",
            "        [  0],\n",
            "        [  0],\n",
            "        [  0],\n",
            "        [  0],\n",
            "        [  0],\n",
            "        [  0],\n",
            "        [  0],\n",
            "        [153],\n",
            "        [ 78],\n",
            "        [106],\n",
            "        [ 37],\n",
            "        [  0],\n",
            "        [  0],\n",
            "        [  0]],\n",
            "\n",
            "       [[  0],\n",
            "        [  0],\n",
            "        [  0],\n",
            "        [ 18],\n",
            "        [ 61],\n",
            "        [ 41],\n",
            "        [103],\n",
            "        [  0],\n",
            "        [  0],\n",
            "        [  0],\n",
            "        [  0],\n",
            "        [  0],\n",
            "        [  0],\n",
            "        [  0],\n",
            "        [  0],\n",
            "        [  0],\n",
            "        [  0],\n",
            "        [  0],\n",
            "        [  0],\n",
            "        [  0],\n",
            "        [  0],\n",
            "        [106],\n",
            "        [ 47],\n",
            "        [ 69],\n",
            "        [ 23],\n",
            "        [  0],\n",
            "        [  0],\n",
            "        [  0]]], dtype=uint8)>, <tf.Tensor: shape=(), dtype=int64, numpy=2>)\n"
          ]
        },
        {
          "output_type": "display_data",
          "data": {
            "text/plain": [
              "<Figure size 432x288 with 1 Axes>"
            ],
            "image/png": "[encoded data removed]"
          },
          "metadata": {
            "needs_background": "light"
          }
        }
      ]
    },
    {
      "cell_type": "code",
      "source": [
        "#3. #asignar las etiquetas son 10\n",
        "numeros_letras = [\"Bota\", \"Bolsa\", \"Abrigo\", \"Vestido\", \"Sueter\", \"Sandalia\", \"Camisa\", \"Tenis\", \"Camiseta\", \"Pantalón\"]"
      ],
      "metadata": {
        "id": "Rzx0Xo7AQhMr"
      },
      "execution_count": 21,
      "outputs": []
    },
    {
      "cell_type": "code",
      "source": [
        "#4. obtener la cantidad de datos.\n",
        "#print(metadata)\n",
        "cantidad_numeros_entrenamiento = metadata.splits[\"train\"].num_examples\n",
        "cantidad_numeros_prueba = metadata.splits[\"test\"].num_examples\n",
        "print(cantidad_numeros_entrenamiento, cantidad_numeros_prueba)"
      ],
      "metadata": {
        "id": "6O8nexB3QlUg",
        "outputId": "86ddc3ff-7834-402d-933f-0b6c216e4db1",
        "colab": {
          "base_uri": "https://localhost:8080/"
        }
      },
      "execution_count": 22,
      "outputs": [
        {
          "output_type": "stream",
          "name": "stdout",
          "text": [
            "60000 10000\n"
          ]
        }
      ]
    },
    {
      "cell_type": "code",
      "source": [
        "#5. funcion normalizadora de los pixeles de 0 - 255 que sean valores de 0 - 1\n",
        "def normalizacion(img, label):\n",
        "  img = tf.cast(img, tf.float32)\n",
        "  img /= 255 #236/255 = 0.004237288\n",
        "  return img, label"
      ],
      "metadata": {
        "id": "o7p0YNo0QrJX"
      },
      "execution_count": 23,
      "outputs": []
    },
    {
      "cell_type": "code",
      "source": [
        "#6. Llamamos la funcion normlizadora\n",
        "datos_entrenamiento = datos_entrenamiento.map(normalizacion)\n",
        "datos_prueba = datos_prueba.map(normalizacion)\n",
        "\n",
        "#for img in datos_entrenamiento.take(1):\n",
        "  #print(img[0])#5.58150468e-08 => 0.0000000558150468"
      ],
      "metadata": {
        "id": "3RHj22K-Qwo9"
      },
      "execution_count": 24,
      "outputs": []
    },
    {
      "cell_type": "code",
      "source": [
        "#7. Arquitectura de la red neuronal\n",
        "modelo = tf.keras.Sequential([\n",
        "    tf.keras.layers.Flatten(input_shape=(28,28,1)), #capa de entrada con 784 neuronas a un 1 canal, una por cada pixel\n",
        "    tf.keras.layers.Dense(64, activation=tf.nn.relu), #capa oculta con 64 neuronas, \n",
        "    #con la funcion de activacion relu, nos devuelve valores entre 0 y 1\n",
        "    tf.keras.layers.Dense(64, activation=tf.nn.relu),\n",
        "    tf.keras.layers.Dense(10, activation=tf.nn.softmax) #la capa de salida tiene 10 neuronas, \n",
        "    #con la funcion de activacion softmax ideal para clasificacion\n",
        "])"
      ],
      "metadata": {
        "id": "grTRxCtg9X6k"
      },
      "execution_count": 55,
      "outputs": []
    },
    {
      "cell_type": "code",
      "source": [
        "#8. Compilacion del modelo\n",
        "modelo.compile(\n",
        "    optimizer=\"adam\",\n",
        "    loss=\"sparse_categorical_crossentropy\",\n",
        "    metrics=['accuracy']\n",
        ")"
      ],
      "metadata": {
        "id": "yHKcucTiCf3z"
      },
      "execution_count": 56,
      "outputs": []
    },
    {
      "cell_type": "code",
      "source": [
        "#9. entrenamiento de la red neuronal\n",
        "size_lote = 32 #60,000 / 32 = 1875\n",
        "datos_entrenamiento = datos_entrenamiento.repeat().shuffle(cantidad_numeros_entrenamiento).batch(size_lote)\n",
        "datos_prueba = datos_prueba.repeat().shuffle(cantidad_numeros_prueba).batch(size_lote)"
      ],
      "metadata": {
        "id": "8R3YslXoDFgO"
      },
      "execution_count": 57,
      "outputs": []
    },
    {
      "cell_type": "code",
      "source": [
        "#10. Realizamos el entrenamiento\n",
        "modelo.fit(datos_entrenamiento, epochs=5,\n",
        "           steps_per_epoch=math.ceil(cantidad_numeros_entrenamiento/size_lote))"
      ],
      "metadata": {
        "id": "44IHylwTE7mj",
        "colab": {
          "base_uri": "https://localhost:8080/"
        },
        "outputId": "15b20736-5eaa-422e-9756-8ae3b001ca2b"
      },
      "execution_count": null,
      "outputs": [
        {
          "output_type": "stream",
          "name": "stdout",
          "text": [
            "Epoch 1/5\n"
          ]
        },
        {
          "output_type": "stream",
          "name": "stderr",
          "text": [
            "WARNING:tensorflow:Model was constructed with shape (None, 28, 28, 1) for input KerasTensor(type_spec=TensorSpec(shape=(None, 28, 28, 1), dtype=tf.float32, name='flatten_2_input'), name='flatten_2_input', description=\"created by layer 'flatten_2_input'\"), but it was called on an input with incompatible shape (None, None, 28, 28).\n",
            "WARNING:tensorflow:Model was constructed with shape (None, 28, 28, 1) for input KerasTensor(type_spec=TensorSpec(shape=(None, 28, 28, 1), dtype=tf.float32, name='flatten_2_input'), name='flatten_2_input', description=\"created by layer 'flatten_2_input'\"), but it was called on an input with incompatible shape (None, None, 28, 28).\n"
          ]
        }
      ]
    },
    {
      "cell_type": "code",
      "source": [
        "#Pendiente los passos adicionales.\n",
        "#probar la IA.\n",
        "i=0\n",
        "for miImg, etiqueta in datos_entrenamiento.take(1):\n",
        "  etiqueta = etiqueta.numpy()\n",
        "  img = miImg[i].numpy().reshape(1,28,28,1)\n",
        "  prediccion = modelo.predict(img, batch_size=1)\n",
        "\n",
        "  valor_predicho = np.argmax(prediccion)\n",
        "  print(valor_predicho, etiqueta[i])\n",
        "\n",
        "  plt.grid(False)\n",
        "  plt.imshow(img[0,...,0], cmap=plt.cm.binary)\n",
        "  plt.xlabel(\"Prediccion: {}\".format(numeros_letras[valor_predicho]), color=\"blue\")"
      ],
      "metadata": {
        "id": "c9e7hyQxH_Hm",
        "colab": {
          "base_uri": "https://localhost:8080/",
          "height": 296
        },
        "outputId": "3cdc7d52-9338-4be3-8087-433e529d21e6"
      },
      "execution_count": 54,
      "outputs": [
        {
          "output_type": "stream",
          "name": "stdout",
          "text": [
            "9 9\n"
          ]
        },
        {
          "output_type": "display_data",
          "data": {
            "text/plain": [
              "<Figure size 432x288 with 1 Axes>"
            ],
            "image/png": "[encoded data removed]"
          },
          "metadata": {
            "needs_background": "light"
          }
        }
      ]
    }
  ],
  "metadata": {
    "colab": {
      "collapsed_sections": [],
      "provenance": [],
      "include_colab_link": true
    },
    "kernelspec": {
      "display_name": "Python 3",
      "name": "python3"
    }
  },
  "nbformat": 4,
  "nbformat_minor": 0
}